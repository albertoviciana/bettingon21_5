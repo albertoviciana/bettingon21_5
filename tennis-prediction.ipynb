{
 "cells": [
  {
   "cell_type": "code",
   "execution_count": 448,
   "metadata": {},
   "outputs": [],
   "source": [
    "# Priting over 1 line of code within the same cell\n",
    "\n",
    "from IPython.core.interactiveshell import InteractiveShell\n",
    "InteractiveShell.ast_node_interactivity = \"all\""
   ]
  },
  {
   "cell_type": "code",
   "execution_count": 449,
   "metadata": {},
   "outputs": [],
   "source": [
    "# LIBRARIES\n",
    "\n",
    "# Must\n",
    "import os\n",
    "import pandas as pd\n",
    "import numpy as np\n",
    "#import datetime as dt\n",
    "\n",
    "# Visualization\n",
    "import missingno\n",
    "import matplotlib.pyplot as plt\n",
    "import seaborn as sns\n",
    "\n",
    "# REGEX\n",
    "#import re\n",
    "\n",
    "# Math\n",
    "#import math\n",
    "#from scipy import stats\n",
    "#from scipy.stats import shapiro\n",
    "#import scipy.stats as st\n",
    "\n",
    "# Machine Learning\n",
    "from sklearn.model_selection import train_test_split\n",
    "from sklearn.preprocessing import MinMaxScaler\n",
    "#from sklearn.preprocessing import PowerTransformer\n",
    "from sklearn.preprocessing import StandardScaler\n",
    "from sklearn.preprocessing import OneHotEncoder\n",
    "from sklearn.preprocessing import LabelEncoder\n",
    "from sklearn import linear_model\n",
    "from sklearn.metrics import r2_score\n",
    "from sklearn.metrics import mean_squared_error\n",
    "from sklearn.neighbors import KNeighborsRegressor\n",
    "from sklearn.linear_model import LogisticRegression\n",
    "from sklearn.neural_network import MLPRegressor\n",
    "from sklearn.datasets import make_regression\n",
    "from sklearn.ensemble import RandomForestRegressor\n",
    "from sklearn.ensemble import GradientBoostingRegressor\n",
    "from sklearn.metrics import precision_score\n",
    "from sklearn.metrics import recall_score\n",
    "from sklearn.metrics import f1_score\n",
    "\n",
    "# Extra\n",
    "import warnings\n",
    "warnings.filterwarnings('ignore')\n",
    "#import pickle"
   ]
  },
  {
   "cell_type": "code",
   "execution_count": 450,
   "metadata": {},
   "outputs": [],
   "source": [
    "# Print whole df if necessary\n",
    "\n",
    "pd.set_option('display.max_rows', 100)\n",
    "pd.set_option('display.max_columns', None)"
   ]
  },
  {
   "cell_type": "code",
   "execution_count": 451,
   "metadata": {},
   "outputs": [],
   "source": [
    "# Surfing to the path and concatenating all xsl(s) files\n",
    "\n",
    "files_path= os.path.abspath('datasets/') \n",
    "files = os.listdir(files_path)\n",
    "\n",
    "files =[os.path.join(files_path, file) for file in files if file != \".DS_Store\"]\n",
    "\n",
    "atp= pd.concat([pd.read_excel(file) for file in files])"
   ]
  },
  {
   "cell_type": "code",
   "execution_count": 452,
   "metadata": {},
   "outputs": [],
   "source": [
    "# Creating a copy of the original dataset\n",
    "\n",
    "atp_copy= atp.copy()"
   ]
  },
  {
   "cell_type": "markdown",
   "metadata": {},
   "source": [
    "### Columns Description:\n",
    "\n",
    "- |__ATP__| -> Tournament ID. _'int64'_\n",
    "- |__Location__| -> Location of the tournament. _'object'_\n",
    "- |__Tournament__| -> Name of the Tournament _'object'_\n",
    "- |__Date__| -> Date of the tournament. _'datetime'_\n",
    "- |__Series__| -> Type of tournament. _'object'_\n",
    "- |__Court__| -> Surface of the match. _'object'_\n",
    "- |__Round__| -> Round of the competition. _'object'_\n",
    "- |__Best of__| -> Max amount of sets that can be played in a match. _'float64'_\n",
    "- |__Winner__| & |__Loser__| -> Winner/Loser of the match. _'object'_\n",
    "- |__LRank__| & |__Loser__| -> ATP Rank of the winner/loser. _'float64'_\n",
    "- |__WPts__| & |__LPts__| -> ATP points in Rank of the winner/loser. _'float64'_\n",
    "- |__W1__| - |__W5__|, |__L1__| - |__W5__| -> Games won or lost by each player on that match. _'float64'_\n",
    "- |__Comment__| -> Comments on the state of the match. _'object'_  \n",
    "- |__Wsets__| & |__Lsets__| -> Sets won by the winner/loser. _'float64'_\n",
    "- |__B365W__| & |__B365W__| -> Bookies odds (Bet 365). _'float64'_\n",
    "- |__EXW__| & |__EXL__| -> Bookies odds (Express). '_float64'_ _'object'_\n",
    "- |__SJW__| & |__SJL__| -> Bookies odds (SJ). _'float64'_\n",
    "- |__PSW__| & |__PSL__| -> Bookies odds (Pinnacle). _'float64'_\n",
    "- |__MaxW__| & |__MaxL__| -> Max odds offered taken oddsport. _'float64'_\n",
    "- |__MinW__| & |__MinL__| -> Mix odds offered taken oddsport. ??\n",
    "- |__AvgW__| & |__AvgL__| -> Avg odds offered. _'float64'_"
   ]
  },
  {
   "cell_type": "code",
   "execution_count": 453,
   "metadata": {},
   "outputs": [
    {
     "data": {
      "text/html": [
       "<div>\n",
       "<style scoped>\n",
       "    .dataframe tbody tr th:only-of-type {\n",
       "        vertical-align: middle;\n",
       "    }\n",
       "\n",
       "    .dataframe tbody tr th {\n",
       "        vertical-align: top;\n",
       "    }\n",
       "\n",
       "    .dataframe thead th {\n",
       "        text-align: right;\n",
       "    }\n",
       "</style>\n",
       "<table border=\"1\" class=\"dataframe\">\n",
       "  <thead>\n",
       "    <tr style=\"text-align: right;\">\n",
       "      <th></th>\n",
       "      <th>ATP</th>\n",
       "      <th>AvgL</th>\n",
       "      <th>AvgW</th>\n",
       "      <th>B365L</th>\n",
       "      <th>B365W</th>\n",
       "      <th>Best of</th>\n",
       "      <th>Comment</th>\n",
       "      <th>Court</th>\n",
       "      <th>Date</th>\n",
       "      <th>EXL</th>\n",
       "      <th>EXW</th>\n",
       "      <th>L1</th>\n",
       "      <th>L2</th>\n",
       "      <th>L3</th>\n",
       "      <th>L4</th>\n",
       "      <th>L5</th>\n",
       "      <th>LBL</th>\n",
       "      <th>LBW</th>\n",
       "      <th>LPts</th>\n",
       "      <th>LRank</th>\n",
       "      <th>Location</th>\n",
       "      <th>Loser</th>\n",
       "      <th>Lsets</th>\n",
       "      <th>MaxL</th>\n",
       "      <th>MaxW</th>\n",
       "      <th>PSL</th>\n",
       "      <th>PSW</th>\n",
       "      <th>Round</th>\n",
       "      <th>SJL</th>\n",
       "      <th>SJW</th>\n",
       "      <th>Series</th>\n",
       "      <th>Surface</th>\n",
       "      <th>Tournament</th>\n",
       "      <th>W1</th>\n",
       "      <th>W2</th>\n",
       "      <th>W3</th>\n",
       "      <th>W4</th>\n",
       "      <th>W5</th>\n",
       "      <th>WPts</th>\n",
       "      <th>WRank</th>\n",
       "      <th>Winner</th>\n",
       "      <th>Wsets</th>\n",
       "    </tr>\n",
       "  </thead>\n",
       "  <tbody>\n",
       "    <tr>\n",
       "      <td>0</td>\n",
       "      <td>1</td>\n",
       "      <td>2.42</td>\n",
       "      <td>1.56</td>\n",
       "      <td>2.50</td>\n",
       "      <td>1.50</td>\n",
       "      <td>3</td>\n",
       "      <td>Completed</td>\n",
       "      <td>Indoor</td>\n",
       "      <td>2021-01-07</td>\n",
       "      <td>NaN</td>\n",
       "      <td>NaN</td>\n",
       "      <td>6.0</td>\n",
       "      <td>5.0</td>\n",
       "      <td>1.0</td>\n",
       "      <td>NaN</td>\n",
       "      <td>NaN</td>\n",
       "      <td>NaN</td>\n",
       "      <td>NaN</td>\n",
       "      <td>206.0</td>\n",
       "      <td>267.0</td>\n",
       "      <td>Antalya</td>\n",
       "      <td>Arnaboldi A.</td>\n",
       "      <td>1.0</td>\n",
       "      <td>2.56</td>\n",
       "      <td>1.67</td>\n",
       "      <td>2.44</td>\n",
       "      <td>1.61</td>\n",
       "      <td>1st Round</td>\n",
       "      <td>NaN</td>\n",
       "      <td>NaN</td>\n",
       "      <td>ATP250</td>\n",
       "      <td>Hard</td>\n",
       "      <td>Antalya Open</td>\n",
       "      <td>4.0</td>\n",
       "      <td>7.0</td>\n",
       "      <td>6.0</td>\n",
       "      <td>NaN</td>\n",
       "      <td>NaN</td>\n",
       "      <td>1395.0</td>\n",
       "      <td>40.0</td>\n",
       "      <td>Basilashvili N.</td>\n",
       "      <td>2.0</td>\n",
       "    </tr>\n",
       "    <tr>\n",
       "      <td>1</td>\n",
       "      <td>1</td>\n",
       "      <td>1.50</td>\n",
       "      <td>2.57</td>\n",
       "      <td>1.50</td>\n",
       "      <td>2.50</td>\n",
       "      <td>3</td>\n",
       "      <td>Completed</td>\n",
       "      <td>Indoor</td>\n",
       "      <td>2021-01-07</td>\n",
       "      <td>NaN</td>\n",
       "      <td>NaN</td>\n",
       "      <td>6.0</td>\n",
       "      <td>5.0</td>\n",
       "      <td>NaN</td>\n",
       "      <td>NaN</td>\n",
       "      <td>NaN</td>\n",
       "      <td>NaN</td>\n",
       "      <td>NaN</td>\n",
       "      <td>209.0</td>\n",
       "      <td>262.0</td>\n",
       "      <td>Antalya</td>\n",
       "      <td>Zuk K.</td>\n",
       "      <td>0.0</td>\n",
       "      <td>1.55</td>\n",
       "      <td>2.70</td>\n",
       "      <td>1.54</td>\n",
       "      <td>2.63</td>\n",
       "      <td>1st Round</td>\n",
       "      <td>NaN</td>\n",
       "      <td>NaN</td>\n",
       "      <td>ATP250</td>\n",
       "      <td>Hard</td>\n",
       "      <td>Antalya Open</td>\n",
       "      <td>7.0</td>\n",
       "      <td>7.0</td>\n",
       "      <td>NaN</td>\n",
       "      <td>NaN</td>\n",
       "      <td>NaN</td>\n",
       "      <td>150.0</td>\n",
       "      <td>309.0</td>\n",
       "      <td>Celikbilek A.</td>\n",
       "      <td>2.0</td>\n",
       "    </tr>\n",
       "    <tr>\n",
       "      <td>2</td>\n",
       "      <td>1</td>\n",
       "      <td>2.53</td>\n",
       "      <td>1.52</td>\n",
       "      <td>2.50</td>\n",
       "      <td>1.50</td>\n",
       "      <td>3</td>\n",
       "      <td>Completed</td>\n",
       "      <td>Indoor</td>\n",
       "      <td>2021-01-07</td>\n",
       "      <td>NaN</td>\n",
       "      <td>NaN</td>\n",
       "      <td>3.0</td>\n",
       "      <td>6.0</td>\n",
       "      <td>NaN</td>\n",
       "      <td>NaN</td>\n",
       "      <td>NaN</td>\n",
       "      <td>NaN</td>\n",
       "      <td>NaN</td>\n",
       "      <td>928.0</td>\n",
       "      <td>67.0</td>\n",
       "      <td>Antalya</td>\n",
       "      <td>Vesely J.</td>\n",
       "      <td>0.0</td>\n",
       "      <td>3.03</td>\n",
       "      <td>1.63</td>\n",
       "      <td>2.58</td>\n",
       "      <td>1.56</td>\n",
       "      <td>1st Round</td>\n",
       "      <td>NaN</td>\n",
       "      <td>NaN</td>\n",
       "      <td>ATP250</td>\n",
       "      <td>Hard</td>\n",
       "      <td>Antalya Open</td>\n",
       "      <td>6.0</td>\n",
       "      <td>7.0</td>\n",
       "      <td>NaN</td>\n",
       "      <td>NaN</td>\n",
       "      <td>NaN</td>\n",
       "      <td>806.0</td>\n",
       "      <td>87.0</td>\n",
       "      <td>Ruusuvuori E.</td>\n",
       "      <td>2.0</td>\n",
       "    </tr>\n",
       "    <tr>\n",
       "      <td>3</td>\n",
       "      <td>1</td>\n",
       "      <td>2.11</td>\n",
       "      <td>1.72</td>\n",
       "      <td>2.20</td>\n",
       "      <td>1.61</td>\n",
       "      <td>3</td>\n",
       "      <td>Completed</td>\n",
       "      <td>Indoor</td>\n",
       "      <td>2021-01-07</td>\n",
       "      <td>NaN</td>\n",
       "      <td>NaN</td>\n",
       "      <td>3.0</td>\n",
       "      <td>3.0</td>\n",
       "      <td>NaN</td>\n",
       "      <td>NaN</td>\n",
       "      <td>NaN</td>\n",
       "      <td>NaN</td>\n",
       "      <td>NaN</td>\n",
       "      <td>858.0</td>\n",
       "      <td>76.0</td>\n",
       "      <td>Antalya</td>\n",
       "      <td>Caruso S.</td>\n",
       "      <td>0.0</td>\n",
       "      <td>2.30</td>\n",
       "      <td>1.87</td>\n",
       "      <td>2.09</td>\n",
       "      <td>1.81</td>\n",
       "      <td>1st Round</td>\n",
       "      <td>NaN</td>\n",
       "      <td>NaN</td>\n",
       "      <td>ATP250</td>\n",
       "      <td>Hard</td>\n",
       "      <td>Antalya Open</td>\n",
       "      <td>6.0</td>\n",
       "      <td>6.0</td>\n",
       "      <td>NaN</td>\n",
       "      <td>NaN</td>\n",
       "      <td>NaN</td>\n",
       "      <td>1090.0</td>\n",
       "      <td>49.0</td>\n",
       "      <td>Bublik A.</td>\n",
       "      <td>2.0</td>\n",
       "    </tr>\n",
       "    <tr>\n",
       "      <td>4</td>\n",
       "      <td>1</td>\n",
       "      <td>2.78</td>\n",
       "      <td>1.44</td>\n",
       "      <td>2.75</td>\n",
       "      <td>1.40</td>\n",
       "      <td>3</td>\n",
       "      <td>Completed</td>\n",
       "      <td>Indoor</td>\n",
       "      <td>2021-01-07</td>\n",
       "      <td>NaN</td>\n",
       "      <td>NaN</td>\n",
       "      <td>6.0</td>\n",
       "      <td>5.0</td>\n",
       "      <td>0.0</td>\n",
       "      <td>NaN</td>\n",
       "      <td>NaN</td>\n",
       "      <td>NaN</td>\n",
       "      <td>NaN</td>\n",
       "      <td>822.0</td>\n",
       "      <td>83.0</td>\n",
       "      <td>Antalya</td>\n",
       "      <td>Herbert P.H.</td>\n",
       "      <td>1.0</td>\n",
       "      <td>3.00</td>\n",
       "      <td>1.50</td>\n",
       "      <td>2.92</td>\n",
       "      <td>1.46</td>\n",
       "      <td>1st Round</td>\n",
       "      <td>NaN</td>\n",
       "      <td>NaN</td>\n",
       "      <td>ATP250</td>\n",
       "      <td>Hard</td>\n",
       "      <td>Antalya Open</td>\n",
       "      <td>3.0</td>\n",
       "      <td>7.0</td>\n",
       "      <td>6.0</td>\n",
       "      <td>NaN</td>\n",
       "      <td>NaN</td>\n",
       "      <td>2555.0</td>\n",
       "      <td>16.0</td>\n",
       "      <td>Goffin D.</td>\n",
       "      <td>2.0</td>\n",
       "    </tr>\n",
       "  </tbody>\n",
       "</table>\n",
       "</div>"
      ],
      "text/plain": [
       "   ATP  AvgL  AvgW  B365L  B365W  Best of    Comment   Court       Date  EXL  \\\n",
       "0    1  2.42  1.56   2.50   1.50        3  Completed  Indoor 2021-01-07  NaN   \n",
       "1    1  1.50  2.57   1.50   2.50        3  Completed  Indoor 2021-01-07  NaN   \n",
       "2    1  2.53  1.52   2.50   1.50        3  Completed  Indoor 2021-01-07  NaN   \n",
       "3    1  2.11  1.72   2.20   1.61        3  Completed  Indoor 2021-01-07  NaN   \n",
       "4    1  2.78  1.44   2.75   1.40        3  Completed  Indoor 2021-01-07  NaN   \n",
       "\n",
       "   EXW   L1   L2   L3  L4  L5  LBL  LBW   LPts  LRank Location         Loser  \\\n",
       "0  NaN  6.0  5.0  1.0 NaN NaN  NaN  NaN  206.0  267.0  Antalya  Arnaboldi A.   \n",
       "1  NaN  6.0  5.0  NaN NaN NaN  NaN  NaN  209.0  262.0  Antalya        Zuk K.   \n",
       "2  NaN  3.0  6.0  NaN NaN NaN  NaN  NaN  928.0   67.0  Antalya     Vesely J.   \n",
       "3  NaN  3.0  3.0  NaN NaN NaN  NaN  NaN  858.0   76.0  Antalya     Caruso S.   \n",
       "4  NaN  6.0  5.0  0.0 NaN NaN  NaN  NaN  822.0   83.0  Antalya  Herbert P.H.   \n",
       "\n",
       "   Lsets  MaxL  MaxW   PSL   PSW      Round  SJL  SJW  Series Surface  \\\n",
       "0    1.0  2.56  1.67  2.44  1.61  1st Round  NaN  NaN  ATP250    Hard   \n",
       "1    0.0  1.55  2.70  1.54  2.63  1st Round  NaN  NaN  ATP250    Hard   \n",
       "2    0.0  3.03  1.63  2.58  1.56  1st Round  NaN  NaN  ATP250    Hard   \n",
       "3    0.0  2.30  1.87  2.09  1.81  1st Round  NaN  NaN  ATP250    Hard   \n",
       "4    1.0  3.00  1.50  2.92  1.46  1st Round  NaN  NaN  ATP250    Hard   \n",
       "\n",
       "     Tournament   W1   W2   W3  W4  W5    WPts  WRank           Winner  Wsets  \n",
       "0  Antalya Open  4.0  7.0  6.0 NaN NaN  1395.0   40.0  Basilashvili N.    2.0  \n",
       "1  Antalya Open  7.0  7.0  NaN NaN NaN   150.0  309.0    Celikbilek A.    2.0  \n",
       "2  Antalya Open  6.0  7.0  NaN NaN NaN   806.0   87.0    Ruusuvuori E.    2.0  \n",
       "3  Antalya Open  6.0  6.0  NaN NaN NaN  1090.0   49.0        Bublik A.    2.0  \n",
       "4  Antalya Open  3.0  7.0  6.0 NaN NaN  2555.0   16.0        Goffin D.    2.0  "
      ]
     },
     "execution_count": 453,
     "metadata": {},
     "output_type": "execute_result"
    },
    {
     "data": {
      "text/plain": [
       "(28335, 42)"
      ]
     },
     "execution_count": 453,
     "metadata": {},
     "output_type": "execute_result"
    }
   ],
   "source": [
    "atp_copy.head()\n",
    "atp_copy.shape"
   ]
  },
  {
   "cell_type": "code",
   "execution_count": 350,
   "metadata": {},
   "outputs": [
    {
     "name": "stdout",
     "output_type": "stream",
     "text": [
      "<class 'pandas.core.frame.DataFrame'>\n",
      "Int64Index: 28335 entries, 0 to 2636\n",
      "Data columns (total 42 columns):\n",
      "ATP           28335 non-null int64\n",
      "AvgL          27361 non-null float64\n",
      "AvgW          27361 non-null float64\n",
      "B365L         28233 non-null float64\n",
      "B365W         28210 non-null float64\n",
      "Best of       28335 non-null int64\n",
      "Comment       28335 non-null object\n",
      "Court         28335 non-null object\n",
      "Date          28335 non-null datetime64[ns]\n",
      "EXL           23468 non-null float64\n",
      "EXW           23463 non-null object\n",
      "L1            28157 non-null float64\n",
      "L2            27888 non-null float64\n",
      "L3            13422 non-null float64\n",
      "L4            2680 non-null float64\n",
      "L5            1013 non-null float64\n",
      "LBL           22831 non-null float64\n",
      "LBW           22820 non-null float64\n",
      "LPts          28272 non-null float64\n",
      "LRank         28271 non-null float64\n",
      "Location      28335 non-null object\n",
      "Loser         28335 non-null object\n",
      "Lsets         28151 non-null float64\n",
      "MaxL          27361 non-null float64\n",
      "MaxW          27361 non-null float64\n",
      "PSL           28178 non-null float64\n",
      "PSW           28178 non-null float64\n",
      "Round         28335 non-null object\n",
      "SJL           12928 non-null float64\n",
      "SJW           12921 non-null float64\n",
      "Series        28335 non-null object\n",
      "Surface       28335 non-null object\n",
      "Tournament    28335 non-null object\n",
      "W1            28154 non-null float64\n",
      "W2            27888 non-null float64\n",
      "W3            13422 non-null float64\n",
      "W4            2680 non-null float64\n",
      "W5            1013 non-null float64\n",
      "WPts          28325 non-null float64\n",
      "WRank         28323 non-null float64\n",
      "Winner        28335 non-null object\n",
      "Wsets         28154 non-null float64\n",
      "dtypes: datetime64[ns](1), float64(29), int64(2), object(10)\n",
      "memory usage: 9.3+ MB\n"
     ]
    }
   ],
   "source": [
    "atp_copy.info()"
   ]
  },
  {
   "cell_type": "code",
   "execution_count": 351,
   "metadata": {},
   "outputs": [],
   "source": [
    "# Standarizing column names (snake type)\n",
    "\n",
    "atp_copy.columns= atp_copy.columns.str.lower().str.replace(' ','_')"
   ]
  },
  {
   "cell_type": "code",
   "execution_count": 352,
   "metadata": {},
   "outputs": [
    {
     "data": {
      "text/plain": [
       "<matplotlib.axes._subplots.AxesSubplot at 0x7fd4fca33910>"
      ]
     },
     "execution_count": 352,
     "metadata": {},
     "output_type": "execute_result"
    },
    {
     "data": {
      "image/png": "[encoded data removed]",
      "text/plain": [
       "<Figure size 2160x360 with 2 Axes>"
      ]
     },
     "metadata": {
      "needs_background": "light"
     },
     "output_type": "display_data"
    }
   ],
   "source": [
    "missingno.matrix(atp_copy, figsize = (30,5))"
   ]
  },
  {
   "cell_type": "code",
   "execution_count": 353,
   "metadata": {},
   "outputs": [
    {
     "name": "stdout",
     "output_type": "stream",
     "text": [
      "Number of missing or NaN values for each column:\n"
     ]
    },
    {
     "data": {
      "text/plain": [
       "{'atp': 0,\n",
       " 'avgl': 974,\n",
       " 'avgw': 974,\n",
       " 'b365l': 102,\n",
       " 'b365w': 125,\n",
       " 'best_of': 0,\n",
       " 'comment': 0,\n",
       " 'court': 0,\n",
       " 'date': 0,\n",
       " 'exl': 4867,\n",
       " 'exw': 4872,\n",
       " 'l1': 178,\n",
       " 'l2': 447,\n",
       " 'l3': 14913,\n",
       " 'l4': 25655,\n",
       " 'l5': 27322,\n",
       " 'lbl': 5504,\n",
       " 'lbw': 5515,\n",
       " 'lpts': 63,\n",
       " 'lrank': 64,\n",
       " 'location': 0,\n",
       " 'loser': 0,\n",
       " 'lsets': 184,\n",
       " 'maxl': 974,\n",
       " 'maxw': 974,\n",
       " 'psl': 157,\n",
       " 'psw': 157,\n",
       " 'round': 0,\n",
       " 'sjl': 15407,\n",
       " 'sjw': 15414,\n",
       " 'series': 0,\n",
       " 'surface': 0,\n",
       " 'tournament': 0,\n",
       " 'w1': 181,\n",
       " 'w2': 447,\n",
       " 'w3': 14913,\n",
       " 'w4': 25655,\n",
       " 'w5': 27322,\n",
       " 'wpts': 10,\n",
       " 'wrank': 12,\n",
       " 'winner': 0,\n",
       " 'wsets': 181}"
      ]
     },
     "execution_count": 353,
     "metadata": {},
     "output_type": "execute_result"
    }
   ],
   "source": [
    "# function to show us how many missing values there are\n",
    "\n",
    "def find_missing_values (df, columns):\n",
    "\n",
    "    missing_vals = {}\n",
    "    print('Number of missing or NaN values for each column:')\n",
    "    df_length = len(df)\n",
    "    \n",
    "    for column in columns:\n",
    "        total_column_values = df[column].value_counts().sum()\n",
    "        missing_vals[column] = df_length - total_column_values\n",
    "        \n",
    "    return missing_vals\n",
    "\n",
    "missing_values = find_missing_values(atp_copy, atp_copy.columns)\n",
    "missing_values"
   ]
  },
  {
   "cell_type": "code",
   "execution_count": 354,
   "metadata": {},
   "outputs": [],
   "source": [
    "# Reseting the index \n",
    "\n",
    "atp_copy.reset_index(inplace= True, drop= True)"
   ]
  },
  {
   "cell_type": "code",
   "execution_count": 355,
   "metadata": {},
   "outputs": [
    {
     "data": {
      "text/plain": [
       "False    28335\n",
       "dtype: int64"
      ]
     },
     "execution_count": 355,
     "metadata": {},
     "output_type": "execute_result"
    }
   ],
   "source": [
    "# Checking for duplicates\n",
    "\n",
    "atp_copy.duplicated().value_counts()"
   ]
  },
  {
   "cell_type": "markdown",
   "metadata": {},
   "source": [
    "#### To keep the problem relatively simple we will only focus on tournies that are best_of 3 ... "
   ]
  },
  {
   "cell_type": "code",
   "execution_count": 356,
   "metadata": {},
   "outputs": [],
   "source": [
    "# Creating a list of indexes under certain condition\n",
    "\n",
    "index_bestof= atp_copy[atp_copy['best_of']== 5].index"
   ]
  },
  {
   "cell_type": "code",
   "execution_count": 357,
   "metadata": {},
   "outputs": [
    {
     "data": {
      "text/plain": [
       "28335"
      ]
     },
     "execution_count": 357,
     "metadata": {},
     "output_type": "execute_result"
    },
    {
     "data": {
      "text/plain": [
       "5578"
      ]
     },
     "execution_count": 357,
     "metadata": {},
     "output_type": "execute_result"
    }
   ],
   "source": [
    "len(atp_copy)\n",
    "len(index_bestof)"
   ]
  },
  {
   "cell_type": "code",
   "execution_count": 358,
   "metadata": {},
   "outputs": [],
   "source": [
    "atp_copy.drop(index_bestof, inplace= True)"
   ]
  },
  {
   "cell_type": "code",
   "execution_count": 359,
   "metadata": {},
   "outputs": [
    {
     "data": {
      "text/plain": [
       "(22757, 42)"
      ]
     },
     "execution_count": 359,
     "metadata": {},
     "output_type": "execute_result"
    }
   ],
   "source": [
    "# Final shape of the dataframe after dropping tournaments that did not go to 4/5 sets\n",
    "\n",
    "atp_copy.shape"
   ]
  },
  {
   "cell_type": "code",
   "execution_count": 360,
   "metadata": {},
   "outputs": [],
   "source": [
    "# We found some inconsistencies in our dataset with tournaments that were supposed to be best_of 5 but instead were wrongly put on best_of 5\n",
    "\n",
    "atp['Best of'] = np.where( ((atp['Series']== 'Grand Slam') & (atp['Best of'] == 3)), 5, atp['Best of'])"
   ]
  },
  {
   "cell_type": "code",
   "execution_count": 361,
   "metadata": {},
   "outputs": [
    {
     "data": {
      "text/html": [
       "<div>\n",
       "<style scoped>\n",
       "    .dataframe tbody tr th:only-of-type {\n",
       "        vertical-align: middle;\n",
       "    }\n",
       "\n",
       "    .dataframe tbody tr th {\n",
       "        vertical-align: top;\n",
       "    }\n",
       "\n",
       "    .dataframe thead th {\n",
       "        text-align: right;\n",
       "    }\n",
       "</style>\n",
       "<table border=\"1\" class=\"dataframe\">\n",
       "  <thead>\n",
       "    <tr style=\"text-align: right;\">\n",
       "      <th></th>\n",
       "      <th>ATP</th>\n",
       "      <th>AvgL</th>\n",
       "      <th>AvgW</th>\n",
       "      <th>B365L</th>\n",
       "      <th>B365W</th>\n",
       "      <th>Best of</th>\n",
       "      <th>Comment</th>\n",
       "      <th>Court</th>\n",
       "      <th>Date</th>\n",
       "      <th>EXL</th>\n",
       "      <th>EXW</th>\n",
       "      <th>L1</th>\n",
       "      <th>L2</th>\n",
       "      <th>L3</th>\n",
       "      <th>L4</th>\n",
       "      <th>L5</th>\n",
       "      <th>LBL</th>\n",
       "      <th>LBW</th>\n",
       "      <th>LPts</th>\n",
       "      <th>LRank</th>\n",
       "      <th>Location</th>\n",
       "      <th>Loser</th>\n",
       "      <th>Lsets</th>\n",
       "      <th>MaxL</th>\n",
       "      <th>MaxW</th>\n",
       "      <th>PSL</th>\n",
       "      <th>PSW</th>\n",
       "      <th>Round</th>\n",
       "      <th>SJL</th>\n",
       "      <th>SJW</th>\n",
       "      <th>Series</th>\n",
       "      <th>Surface</th>\n",
       "      <th>Tournament</th>\n",
       "      <th>W1</th>\n",
       "      <th>W2</th>\n",
       "      <th>W3</th>\n",
       "      <th>W4</th>\n",
       "      <th>W5</th>\n",
       "      <th>WPts</th>\n",
       "      <th>WRank</th>\n",
       "      <th>Winner</th>\n",
       "      <th>Wsets</th>\n",
       "    </tr>\n",
       "  </thead>\n",
       "  <tbody>\n",
       "    <tr>\n",
       "      <td>168</td>\n",
       "      <td>5</td>\n",
       "      <td>21.38</td>\n",
       "      <td>1.01</td>\n",
       "      <td>26.0</td>\n",
       "      <td>1.01</td>\n",
       "      <td>5</td>\n",
       "      <td>Completed</td>\n",
       "      <td>Outdoor</td>\n",
       "      <td>2021-02-08</td>\n",
       "      <td>NaN</td>\n",
       "      <td>NaN</td>\n",
       "      <td>3.0</td>\n",
       "      <td>3.0</td>\n",
       "      <td>2.0</td>\n",
       "      <td>NaN</td>\n",
       "      <td>NaN</td>\n",
       "      <td>NaN</td>\n",
       "      <td>NaN</td>\n",
       "      <td>785.0</td>\n",
       "      <td>92.0</td>\n",
       "      <td>Melbourne</td>\n",
       "      <td>Coria F.</td>\n",
       "      <td>0.0</td>\n",
       "      <td>34.00</td>\n",
       "      <td>1.02</td>\n",
       "      <td>26.84</td>\n",
       "      <td>1.01</td>\n",
       "      <td>1st Round</td>\n",
       "      <td>NaN</td>\n",
       "      <td>NaN</td>\n",
       "      <td>Grand Slam</td>\n",
       "      <td>Hard</td>\n",
       "      <td>Australian Open</td>\n",
       "      <td>6.0</td>\n",
       "      <td>6.0</td>\n",
       "      <td>6.0</td>\n",
       "      <td>NaN</td>\n",
       "      <td>NaN</td>\n",
       "      <td>2630.0</td>\n",
       "      <td>14.0</td>\n",
       "      <td>Raonic M.</td>\n",
       "      <td>3.0</td>\n",
       "    </tr>\n",
       "    <tr>\n",
       "      <td>169</td>\n",
       "      <td>5</td>\n",
       "      <td>2.19</td>\n",
       "      <td>1.68</td>\n",
       "      <td>2.2</td>\n",
       "      <td>1.66</td>\n",
       "      <td>5</td>\n",
       "      <td>Completed</td>\n",
       "      <td>Outdoor</td>\n",
       "      <td>2021-02-08</td>\n",
       "      <td>NaN</td>\n",
       "      <td>NaN</td>\n",
       "      <td>2.0</td>\n",
       "      <td>4.0</td>\n",
       "      <td>6.0</td>\n",
       "      <td>NaN</td>\n",
       "      <td>NaN</td>\n",
       "      <td>NaN</td>\n",
       "      <td>NaN</td>\n",
       "      <td>752.0</td>\n",
       "      <td>98.0</td>\n",
       "      <td>Melbourne</td>\n",
       "      <td>Novak D.</td>\n",
       "      <td>0.0</td>\n",
       "      <td>2.37</td>\n",
       "      <td>1.83</td>\n",
       "      <td>2.37</td>\n",
       "      <td>1.66</td>\n",
       "      <td>1st Round</td>\n",
       "      <td>NaN</td>\n",
       "      <td>NaN</td>\n",
       "      <td>Grand Slam</td>\n",
       "      <td>Hard</td>\n",
       "      <td>Australian Open</td>\n",
       "      <td>6.0</td>\n",
       "      <td>6.0</td>\n",
       "      <td>7.0</td>\n",
       "      <td>NaN</td>\n",
       "      <td>NaN</td>\n",
       "      <td>1561.0</td>\n",
       "      <td>36.0</td>\n",
       "      <td>Mannarino A.</td>\n",
       "      <td>3.0</td>\n",
       "    </tr>\n",
       "  </tbody>\n",
       "</table>\n",
       "</div>"
      ],
      "text/plain": [
       "     ATP   AvgL  AvgW  B365L  B365W  Best of    Comment    Court       Date  \\\n",
       "168    5  21.38  1.01   26.0   1.01        5  Completed  Outdoor 2021-02-08   \n",
       "169    5   2.19  1.68    2.2   1.66        5  Completed  Outdoor 2021-02-08   \n",
       "\n",
       "     EXL  EXW   L1   L2   L3  L4  L5  LBL  LBW   LPts  LRank   Location  \\\n",
       "168  NaN  NaN  3.0  3.0  2.0 NaN NaN  NaN  NaN  785.0   92.0  Melbourne   \n",
       "169  NaN  NaN  2.0  4.0  6.0 NaN NaN  NaN  NaN  752.0   98.0  Melbourne   \n",
       "\n",
       "        Loser  Lsets   MaxL  MaxW    PSL   PSW      Round  SJL  SJW  \\\n",
       "168  Coria F.    0.0  34.00  1.02  26.84  1.01  1st Round  NaN  NaN   \n",
       "169  Novak D.    0.0   2.37  1.83   2.37  1.66  1st Round  NaN  NaN   \n",
       "\n",
       "         Series Surface       Tournament   W1   W2   W3  W4  W5    WPts  \\\n",
       "168  Grand Slam    Hard  Australian Open  6.0  6.0  6.0 NaN NaN  2630.0   \n",
       "169  Grand Slam    Hard  Australian Open  6.0  6.0  7.0 NaN NaN  1561.0   \n",
       "\n",
       "     WRank        Winner  Wsets  \n",
       "168   14.0     Raonic M.    3.0  \n",
       "169   36.0  Mannarino A.    3.0  "
      ]
     },
     "execution_count": 361,
     "metadata": {},
     "output_type": "execute_result"
    }
   ],
   "source": [
    "atp[(atp['Series'] == 'Grand Slam') & (atp['Best of'] == 5)].head(2)"
   ]
  },
  {
   "cell_type": "code",
   "execution_count": 362,
   "metadata": {},
   "outputs": [],
   "source": [
    "# Converting columns to correct type\n",
    "\n",
    "def cleaning_exw(x):\n",
    "    if type(x) == str:\n",
    "        x= x.replace(',', '')\n",
    "        return float(x)\n",
    "    else:\n",
    "        return float(x)\n",
    "    \n",
    "    \n",
    "atp_copy['exw']= atp_copy['exw'].apply(cleaning_exw)"
   ]
  },
  {
   "cell_type": "code",
   "execution_count": 363,
   "metadata": {},
   "outputs": [],
   "source": [
    "# Filling missing values of the avg odds with their avg from the other bookies \n",
    "\n",
    "bookies_fav_odds= ['b365w', 'lbw', 'psw', 'sjw', 'exw']\n",
    "bookies_nonfav_odds= ['b365l', 'lbl', 'psl', 'sjl', 'exl']\n",
    "\n",
    "atp_copy['avgw'].fillna((atp_copy['b365w'] + atp_copy['lbw'] + atp_copy['psw'] + atp_copy['sjw'] + atp_copy['exw']) / len(bookies_fav_odds), inplace=True)\n",
    "atp_copy['avgl'].fillna((atp_copy['b365l'] + atp_copy['lbl'] + atp_copy['psl'] + atp_copy['sjl'] + atp_copy['exl']) / len(bookies_nonfav_odds), inplace=True)"
   ]
  },
  {
   "cell_type": "markdown",
   "metadata": {},
   "source": [
    "#### Keeping only as condition matches that were completely finished  since our analysis and prediction will be mostly based on bets that are paid if the match is completed"
   ]
  },
  {
   "cell_type": "code",
   "execution_count": 364,
   "metadata": {},
   "outputs": [],
   "source": [
    "# Keeping only completed matches\n",
    "\n",
    "atp_copy= atp_copy[atp_copy.comment == 'Completed']"
   ]
  },
  {
   "cell_type": "code",
   "execution_count": 365,
   "metadata": {},
   "outputs": [
    {
     "data": {
      "text/plain": [
       "Index(['atp', 'avgl', 'avgw', 'b365l', 'b365w', 'best_of', 'comment', 'court',\n",
       "       'date', 'exl', 'exw', 'l1', 'l2', 'l3', 'l4', 'l5', 'lbl', 'lbw',\n",
       "       'lpts', 'lrank', 'location', 'loser', 'lsets', 'maxl', 'maxw', 'psl',\n",
       "       'psw', 'round', 'sjl', 'sjw', 'series', 'surface', 'tournament', 'w1',\n",
       "       'w2', 'w3', 'w4', 'w5', 'wpts', 'wrank', 'winner', 'wsets'],\n",
       "      dtype='object')"
      ]
     },
     "execution_count": 365,
     "metadata": {},
     "output_type": "execute_result"
    }
   ],
   "source": [
    "atp_copy.columns"
   ]
  },
  {
   "cell_type": "markdown",
   "metadata": {},
   "source": [
    "#### Dropping unnecessary or redoundant columns for our analysis...\n",
    "\n"
   ]
  },
  {
   "cell_type": "code",
   "execution_count": 366,
   "metadata": {},
   "outputs": [
    {
     "data": {
      "text/plain": [
       "Index(['atp', 'avgl', 'avgw', 'b365l', 'b365w', 'best_of', 'comment', 'court',\n",
       "       'date', 'exl', 'exw', 'l1', 'l2', 'l3', 'l4', 'l5', 'lbl', 'lbw',\n",
       "       'lpts', 'lrank', 'location', 'loser', 'lsets', 'maxl', 'maxw', 'psl',\n",
       "       'psw', 'round', 'sjl', 'sjw', 'series', 'surface', 'tournament', 'w1',\n",
       "       'w2', 'w3', 'w4', 'w5', 'wpts', 'wrank', 'winner', 'wsets'],\n",
       "      dtype='object')"
      ]
     },
     "execution_count": 366,
     "metadata": {},
     "output_type": "execute_result"
    }
   ],
   "source": [
    "# Dropping unnecesary columns for our analysis\n",
    "# These are most likely columns that matches that went to 4-5 sets (which we dont care for our study)\n",
    "# Odds from bookies that may offer a bigger odd but for simplicity we only considered those from avg and bet365\n",
    "\n",
    "atp_copy.columns\n",
    "drops_cols= ['w4', 'w5', 'l4', 'l5','exw', 'exl','lbw', 'lbl', 'psw', 'psl', 'sjw', 'sjl', 'maxw', 'maxl']"
   ]
  },
  {
   "cell_type": "code",
   "execution_count": 367,
   "metadata": {},
   "outputs": [],
   "source": [
    "atp_copy.drop(columns= drops_cols, inplace= True)"
   ]
  },
  {
   "cell_type": "code",
   "execution_count": 368,
   "metadata": {},
   "outputs": [],
   "source": [
    "# Re-organizing columns\n",
    "\n",
    "atp_copy= atp_copy[['atp', 'location', 'tournament', 'date', 'series', 'court', 'surface',\n",
    "       'round', 'best_of', 'winner', 'loser', 'wrank', 'lrank', 'wpts', 'lpts',\n",
    "       'w1', 'l1', 'w2', 'l2', 'w3', 'l3', 'wsets', 'lsets', 'comment',\n",
    "       'b365w', 'b365l', 'avgw', 'avgl']]"
   ]
  },
  {
   "cell_type": "code",
   "execution_count": 369,
   "metadata": {},
   "outputs": [
    {
     "data": {
      "text/html": [
       "<div>\n",
       "<style scoped>\n",
       "    .dataframe tbody tr th:only-of-type {\n",
       "        vertical-align: middle;\n",
       "    }\n",
       "\n",
       "    .dataframe tbody tr th {\n",
       "        vertical-align: top;\n",
       "    }\n",
       "\n",
       "    .dataframe thead th {\n",
       "        text-align: right;\n",
       "    }\n",
       "</style>\n",
       "<table border=\"1\" class=\"dataframe\">\n",
       "  <thead>\n",
       "    <tr style=\"text-align: right;\">\n",
       "      <th></th>\n",
       "      <th>atp</th>\n",
       "      <th>location</th>\n",
       "      <th>tournament</th>\n",
       "      <th>date</th>\n",
       "      <th>series</th>\n",
       "      <th>court</th>\n",
       "      <th>surface</th>\n",
       "      <th>round</th>\n",
       "      <th>best_of</th>\n",
       "      <th>winner</th>\n",
       "      <th>loser</th>\n",
       "      <th>wrank</th>\n",
       "      <th>lrank</th>\n",
       "      <th>wpts</th>\n",
       "      <th>lpts</th>\n",
       "      <th>w1</th>\n",
       "      <th>l1</th>\n",
       "      <th>w2</th>\n",
       "      <th>l2</th>\n",
       "      <th>w3</th>\n",
       "      <th>l3</th>\n",
       "      <th>wsets</th>\n",
       "      <th>lsets</th>\n",
       "      <th>comment</th>\n",
       "      <th>b365w</th>\n",
       "      <th>b365l</th>\n",
       "      <th>avgw</th>\n",
       "      <th>avgl</th>\n",
       "    </tr>\n",
       "  </thead>\n",
       "  <tbody>\n",
       "    <tr>\n",
       "      <td>0</td>\n",
       "      <td>1</td>\n",
       "      <td>Antalya</td>\n",
       "      <td>Antalya Open</td>\n",
       "      <td>2021-01-07</td>\n",
       "      <td>ATP250</td>\n",
       "      <td>Indoor</td>\n",
       "      <td>Hard</td>\n",
       "      <td>1st Round</td>\n",
       "      <td>3</td>\n",
       "      <td>Basilashvili N.</td>\n",
       "      <td>Arnaboldi A.</td>\n",
       "      <td>40.0</td>\n",
       "      <td>267.0</td>\n",
       "      <td>1395.0</td>\n",
       "      <td>206.0</td>\n",
       "      <td>4.0</td>\n",
       "      <td>6.0</td>\n",
       "      <td>7.0</td>\n",
       "      <td>5.0</td>\n",
       "      <td>6.0</td>\n",
       "      <td>1.0</td>\n",
       "      <td>2.0</td>\n",
       "      <td>1.0</td>\n",
       "      <td>Completed</td>\n",
       "      <td>1.50</td>\n",
       "      <td>2.50</td>\n",
       "      <td>1.56</td>\n",
       "      <td>2.42</td>\n",
       "    </tr>\n",
       "    <tr>\n",
       "      <td>1</td>\n",
       "      <td>1</td>\n",
       "      <td>Antalya</td>\n",
       "      <td>Antalya Open</td>\n",
       "      <td>2021-01-07</td>\n",
       "      <td>ATP250</td>\n",
       "      <td>Indoor</td>\n",
       "      <td>Hard</td>\n",
       "      <td>1st Round</td>\n",
       "      <td>3</td>\n",
       "      <td>Celikbilek A.</td>\n",
       "      <td>Zuk K.</td>\n",
       "      <td>309.0</td>\n",
       "      <td>262.0</td>\n",
       "      <td>150.0</td>\n",
       "      <td>209.0</td>\n",
       "      <td>7.0</td>\n",
       "      <td>6.0</td>\n",
       "      <td>7.0</td>\n",
       "      <td>5.0</td>\n",
       "      <td>NaN</td>\n",
       "      <td>NaN</td>\n",
       "      <td>2.0</td>\n",
       "      <td>0.0</td>\n",
       "      <td>Completed</td>\n",
       "      <td>2.50</td>\n",
       "      <td>1.50</td>\n",
       "      <td>2.57</td>\n",
       "      <td>1.50</td>\n",
       "    </tr>\n",
       "    <tr>\n",
       "      <td>2</td>\n",
       "      <td>1</td>\n",
       "      <td>Antalya</td>\n",
       "      <td>Antalya Open</td>\n",
       "      <td>2021-01-07</td>\n",
       "      <td>ATP250</td>\n",
       "      <td>Indoor</td>\n",
       "      <td>Hard</td>\n",
       "      <td>1st Round</td>\n",
       "      <td>3</td>\n",
       "      <td>Ruusuvuori E.</td>\n",
       "      <td>Vesely J.</td>\n",
       "      <td>87.0</td>\n",
       "      <td>67.0</td>\n",
       "      <td>806.0</td>\n",
       "      <td>928.0</td>\n",
       "      <td>6.0</td>\n",
       "      <td>3.0</td>\n",
       "      <td>7.0</td>\n",
       "      <td>6.0</td>\n",
       "      <td>NaN</td>\n",
       "      <td>NaN</td>\n",
       "      <td>2.0</td>\n",
       "      <td>0.0</td>\n",
       "      <td>Completed</td>\n",
       "      <td>1.50</td>\n",
       "      <td>2.50</td>\n",
       "      <td>1.52</td>\n",
       "      <td>2.53</td>\n",
       "    </tr>\n",
       "    <tr>\n",
       "      <td>3</td>\n",
       "      <td>1</td>\n",
       "      <td>Antalya</td>\n",
       "      <td>Antalya Open</td>\n",
       "      <td>2021-01-07</td>\n",
       "      <td>ATP250</td>\n",
       "      <td>Indoor</td>\n",
       "      <td>Hard</td>\n",
       "      <td>1st Round</td>\n",
       "      <td>3</td>\n",
       "      <td>Bublik A.</td>\n",
       "      <td>Caruso S.</td>\n",
       "      <td>49.0</td>\n",
       "      <td>76.0</td>\n",
       "      <td>1090.0</td>\n",
       "      <td>858.0</td>\n",
       "      <td>6.0</td>\n",
       "      <td>3.0</td>\n",
       "      <td>6.0</td>\n",
       "      <td>3.0</td>\n",
       "      <td>NaN</td>\n",
       "      <td>NaN</td>\n",
       "      <td>2.0</td>\n",
       "      <td>0.0</td>\n",
       "      <td>Completed</td>\n",
       "      <td>1.61</td>\n",
       "      <td>2.20</td>\n",
       "      <td>1.72</td>\n",
       "      <td>2.11</td>\n",
       "    </tr>\n",
       "    <tr>\n",
       "      <td>4</td>\n",
       "      <td>1</td>\n",
       "      <td>Antalya</td>\n",
       "      <td>Antalya Open</td>\n",
       "      <td>2021-01-07</td>\n",
       "      <td>ATP250</td>\n",
       "      <td>Indoor</td>\n",
       "      <td>Hard</td>\n",
       "      <td>1st Round</td>\n",
       "      <td>3</td>\n",
       "      <td>Goffin D.</td>\n",
       "      <td>Herbert P.H.</td>\n",
       "      <td>16.0</td>\n",
       "      <td>83.0</td>\n",
       "      <td>2555.0</td>\n",
       "      <td>822.0</td>\n",
       "      <td>3.0</td>\n",
       "      <td>6.0</td>\n",
       "      <td>7.0</td>\n",
       "      <td>5.0</td>\n",
       "      <td>6.0</td>\n",
       "      <td>0.0</td>\n",
       "      <td>2.0</td>\n",
       "      <td>1.0</td>\n",
       "      <td>Completed</td>\n",
       "      <td>1.40</td>\n",
       "      <td>2.75</td>\n",
       "      <td>1.44</td>\n",
       "      <td>2.78</td>\n",
       "    </tr>\n",
       "  </tbody>\n",
       "</table>\n",
       "</div>"
      ],
      "text/plain": [
       "   atp location    tournament       date  series   court surface      round  \\\n",
       "0    1  Antalya  Antalya Open 2021-01-07  ATP250  Indoor    Hard  1st Round   \n",
       "1    1  Antalya  Antalya Open 2021-01-07  ATP250  Indoor    Hard  1st Round   \n",
       "2    1  Antalya  Antalya Open 2021-01-07  ATP250  Indoor    Hard  1st Round   \n",
       "3    1  Antalya  Antalya Open 2021-01-07  ATP250  Indoor    Hard  1st Round   \n",
       "4    1  Antalya  Antalya Open 2021-01-07  ATP250  Indoor    Hard  1st Round   \n",
       "\n",
       "   best_of           winner         loser  wrank  lrank    wpts   lpts   w1  \\\n",
       "0        3  Basilashvili N.  Arnaboldi A.   40.0  267.0  1395.0  206.0  4.0   \n",
       "1        3    Celikbilek A.        Zuk K.  309.0  262.0   150.0  209.0  7.0   \n",
       "2        3    Ruusuvuori E.     Vesely J.   87.0   67.0   806.0  928.0  6.0   \n",
       "3        3        Bublik A.     Caruso S.   49.0   76.0  1090.0  858.0  6.0   \n",
       "4        3        Goffin D.  Herbert P.H.   16.0   83.0  2555.0  822.0  3.0   \n",
       "\n",
       "    l1   w2   l2   w3   l3  wsets  lsets    comment  b365w  b365l  avgw  avgl  \n",
       "0  6.0  7.0  5.0  6.0  1.0    2.0    1.0  Completed   1.50   2.50  1.56  2.42  \n",
       "1  6.0  7.0  5.0  NaN  NaN    2.0    0.0  Completed   2.50   1.50  2.57  1.50  \n",
       "2  3.0  7.0  6.0  NaN  NaN    2.0    0.0  Completed   1.50   2.50  1.52  2.53  \n",
       "3  3.0  6.0  3.0  NaN  NaN    2.0    0.0  Completed   1.61   2.20  1.72  2.11  \n",
       "4  6.0  7.0  5.0  6.0  0.0    2.0    1.0  Completed   1.40   2.75  1.44  2.78  "
      ]
     },
     "execution_count": 369,
     "metadata": {},
     "output_type": "execute_result"
    }
   ],
   "source": [
    "atp_copy.head()"
   ]
  },
  {
   "cell_type": "code",
   "execution_count": 370,
   "metadata": {},
   "outputs": [
    {
     "data": {
      "text/plain": [
       "Djokovic N.     403\n",
       "Nadal R.        385\n",
       "Federer R.      361\n",
       "Ferrer D.       322\n",
       "Isner J.        297\n",
       "               ... \n",
       "Wolmarans F.      1\n",
       "Ilkel C.          1\n",
       "Zampieri C.       1\n",
       "Stebe C-M.        1\n",
       "Rodrigues M.      1\n",
       "Name: winner, Length: 549, dtype: int64"
      ]
     },
     "execution_count": 370,
     "metadata": {},
     "output_type": "execute_result"
    },
    {
     "data": {
      "text/plain": [
       "Verdasco F.         206\n",
       "Simon G.            204\n",
       "Fognini F.          203\n",
       "Chardy J.           201\n",
       "Seppi A.            200\n",
       "                   ... \n",
       "Lajola D.             1\n",
       "Tepavac M.            1\n",
       "Gomez-Herrera C.      1\n",
       "Rodrigues M.          1\n",
       "Rios F.               1\n",
       "Name: loser, Length: 837, dtype: int64"
      ]
     },
     "execution_count": 370,
     "metadata": {},
     "output_type": "execute_result"
    }
   ],
   "source": [
    "# for the sake of the analisys would be \n",
    "\n",
    "atp_copy['winner'].value_counts()\n",
    "atp_copy['loser'].value_counts()"
   ]
  },
  {
   "cell_type": "code",
   "execution_count": 371,
   "metadata": {},
   "outputs": [
    {
     "data": {
      "text/plain": [
       "<matplotlib.axes._subplots.AxesSubplot at 0x7fd4f6375590>"
      ]
     },
     "execution_count": 371,
     "metadata": {},
     "output_type": "execute_result"
    },
    {
     "data": {
      "image/png": "[encoded data removed]",
      "text/plain": [
       "<Figure size 2160x360 with 2 Axes>"
      ]
     },
     "metadata": {
      "needs_background": "light"
     },
     "output_type": "display_data"
    }
   ],
   "source": [
    "# Visualazing the missing values of the new df\n",
    "\n",
    "missingno.matrix(atp_copy, figsize = (30,5))"
   ]
  },
  {
   "cell_type": "code",
   "execution_count": 372,
   "metadata": {
    "scrolled": true
   },
   "outputs": [
    {
     "data": {
      "text/plain": [
       "(21945, 28)"
      ]
     },
     "execution_count": 372,
     "metadata": {},
     "output_type": "execute_result"
    }
   ],
   "source": [
    "atp_copy.shape"
   ]
  },
  {
   "cell_type": "code",
   "execution_count": 373,
   "metadata": {},
   "outputs": [],
   "source": [
    "# Filling na values of the 3rd set with zeros since the match was finished after 2 sets\n",
    "\n",
    "atp_copy['w3'].fillna(0, inplace= True)\n",
    "atp_copy['l3'].fillna(0, inplace= True)"
   ]
  },
  {
   "cell_type": "code",
   "execution_count": 374,
   "metadata": {},
   "outputs": [],
   "source": [
    "# Working on the names columns"
   ]
  },
  {
   "cell_type": "raw",
   "metadata": {},
   "source": [
    "# have to work on a proper function\\\n",
    "\n",
    "sentence = ' hello  apple'\n",
    "\" \".join(sentence.split())\n",
    ">>> 'hello apple'\n",
    "\n",
    "atpp = atp_copy.copy()\n",
    "\n",
    "atpp['winner']\n",
    "\n",
    "pepe = 'gato con pollo'\n",
    "\n",
    "pepe.split(',')\n",
    "\n",
    "atp_copy['winner']= atp_copy['winner'].str.replace('-', ' ')\n",
    "atp_copy['winner']= atp_copy['winner'].str.replace('-', ' ')\n",
    "\n",
    "atp_copy['winner'].dtype\n",
    "\n",
    "players= []\n",
    "\n",
    "def fixing_names(df, columns):    \n",
    "    \n",
    "    for row in columns:\n",
    "        row = row.replace('-',' ')\n",
    "        row_1= row.split(' ')\n",
    "        \n",
    "        if row_1[0] not in players:\n",
    "            players.append(row)\n",
    "            \n",
    "        else:\n",
    "            row.replace\n",
    "        \n",
    "        if row_1[0] in players:\n",
    "            row.replace(row)\n",
    "        \n",
    "        else:\n",
    "            players.append(row)"
   ]
  },
  {
   "cell_type": "code",
   "execution_count": 375,
   "metadata": {},
   "outputs": [],
   "source": [
    "def fixing_names(x):\n",
    "    \n",
    "    if '-' in x:\n",
    "        x= x.replace('-', ' ')\n",
    "        return str(x)\n",
    "    \n",
    "    elif '. ' in x:\n",
    "        x= x.replace('. ', '.')\n",
    "        return str(x)\n",
    "        \n",
    "    elif '..' in x:\n",
    "        x= x.replace('..', '.')\n",
    "        return str(x)\n",
    "    \n",
    "    elif '.' != x[-1]:\n",
    "        return str(x + '.')\n",
    "        \n",
    "    else:\n",
    "        return str(x)\n",
    "    \n",
    "atp_copy['winner']= atp_copy['winner'].apply(fixing_names)\n",
    "atp_copy['loser']= atp_copy['loser'].apply(fixing_names)"
   ]
  },
  {
   "cell_type": "code",
   "execution_count": 376,
   "metadata": {},
   "outputs": [],
   "source": [
    "# Creating the column for our future target var which is going to be the amount of games / match (more/less)\n",
    "\n",
    "atp_copy['total_games'] = atp_copy['w1']+atp_copy['w2']+atp_copy['w3']+atp_copy['l1']+atp_copy['l2']+atp_copy['l3']"
   ]
  },
  {
   "cell_type": "code",
   "execution_count": 377,
   "metadata": {},
   "outputs": [
    {
     "data": {
      "text/plain": [
       "23.26901517568245"
      ]
     },
     "execution_count": 377,
     "metadata": {},
     "output_type": "execute_result"
    }
   ],
   "source": [
    "atp_copy['total_games'].mean()"
   ]
  },
  {
   "cell_type": "code",
   "execution_count": 378,
   "metadata": {},
   "outputs": [
    {
     "data": {
      "text/plain": [
       "NaN        2\n",
       "12.0      10\n",
       "37.0      27\n",
       "39.0     100\n",
       "38.0     106\n",
       "13.0     112\n",
       "14.0     279\n",
       "36.0     282\n",
       "24.0     340\n",
       "34.0     384\n",
       "35.0     448\n",
       "33.0     501\n",
       "27.0     670\n",
       "15.0     687\n",
       "28.0     762\n",
       "30.0     779\n",
       "32.0     799\n",
       "25.0     800\n",
       "29.0     814\n",
       "31.0     826\n",
       "26.0    1031\n",
       "16.0    1080\n",
       "21.0    1250\n",
       "23.0    1318\n",
       "18.0    1600\n",
       "17.0    1622\n",
       "22.0    1657\n",
       "20.0    1722\n",
       "19.0    1937\n",
       "Name: total_games, dtype: int64"
      ]
     },
     "execution_count": 378,
     "metadata": {},
     "output_type": "execute_result"
    }
   ],
   "source": [
    "atp_copy['total_games'].value_counts(dropna= False).sort_values()"
   ]
  },
  {
   "cell_type": "code",
   "execution_count": 379,
   "metadata": {},
   "outputs": [
    {
     "data": {
      "text/plain": [
       "<Figure size 1080x720 with 0 Axes>"
      ]
     },
     "execution_count": 379,
     "metadata": {},
     "output_type": "execute_result"
    },
    {
     "data": {
      "text/plain": [
       "<matplotlib.axes._subplots.AxesSubplot at 0x7fd4f5b42dd0>"
      ]
     },
     "execution_count": 379,
     "metadata": {},
     "output_type": "execute_result"
    },
    {
     "data": {
      "image/png": "[encoded data removed]",
      "text/plain": [
       "<Figure size 1080x720 with 1 Axes>"
      ]
     },
     "metadata": {
      "needs_background": "light"
     },
     "output_type": "display_data"
    }
   ],
   "source": [
    "plt.figure(figsize= (15,10))\n",
    "\n",
    "sns.countplot(data= atp_copy, x= 'total_games') "
   ]
  },
  {
   "cell_type": "code",
   "execution_count": 380,
   "metadata": {},
   "outputs": [],
   "source": [
    "atp_copy['sumw']= atp_copy['w1'] + atp_copy['w2'] + atp_copy['w3']\n",
    "atp_copy['suml']= atp_copy['l1'] + atp_copy['l2'] + atp_copy['l3']"
   ]
  },
  {
   "cell_type": "code",
   "execution_count": 381,
   "metadata": {},
   "outputs": [
    {
     "data": {
      "text/html": [
       "<div>\n",
       "<style scoped>\n",
       "    .dataframe tbody tr th:only-of-type {\n",
       "        vertical-align: middle;\n",
       "    }\n",
       "\n",
       "    .dataframe tbody tr th {\n",
       "        vertical-align: top;\n",
       "    }\n",
       "\n",
       "    .dataframe thead th {\n",
       "        text-align: right;\n",
       "    }\n",
       "</style>\n",
       "<table border=\"1\" class=\"dataframe\">\n",
       "  <thead>\n",
       "    <tr style=\"text-align: right;\">\n",
       "      <th></th>\n",
       "      <th>atp</th>\n",
       "      <th>location</th>\n",
       "      <th>tournament</th>\n",
       "      <th>date</th>\n",
       "      <th>series</th>\n",
       "      <th>court</th>\n",
       "      <th>surface</th>\n",
       "      <th>round</th>\n",
       "      <th>best_of</th>\n",
       "      <th>winner</th>\n",
       "      <th>loser</th>\n",
       "      <th>wrank</th>\n",
       "      <th>lrank</th>\n",
       "      <th>wpts</th>\n",
       "      <th>lpts</th>\n",
       "      <th>w1</th>\n",
       "      <th>l1</th>\n",
       "      <th>w2</th>\n",
       "      <th>l2</th>\n",
       "      <th>w3</th>\n",
       "      <th>l3</th>\n",
       "      <th>wsets</th>\n",
       "      <th>lsets</th>\n",
       "      <th>comment</th>\n",
       "      <th>b365w</th>\n",
       "      <th>b365l</th>\n",
       "      <th>avgw</th>\n",
       "      <th>avgl</th>\n",
       "      <th>total_games</th>\n",
       "      <th>sumw</th>\n",
       "      <th>suml</th>\n",
       "    </tr>\n",
       "  </thead>\n",
       "  <tbody>\n",
       "    <tr>\n",
       "      <td>0</td>\n",
       "      <td>1</td>\n",
       "      <td>Antalya</td>\n",
       "      <td>Antalya Open</td>\n",
       "      <td>2021-01-07</td>\n",
       "      <td>ATP250</td>\n",
       "      <td>Indoor</td>\n",
       "      <td>Hard</td>\n",
       "      <td>1st Round</td>\n",
       "      <td>3</td>\n",
       "      <td>Basilashvili N.</td>\n",
       "      <td>Arnaboldi A.</td>\n",
       "      <td>40.0</td>\n",
       "      <td>267.0</td>\n",
       "      <td>1395.0</td>\n",
       "      <td>206.0</td>\n",
       "      <td>4.0</td>\n",
       "      <td>6.0</td>\n",
       "      <td>7.0</td>\n",
       "      <td>5.0</td>\n",
       "      <td>6.0</td>\n",
       "      <td>1.0</td>\n",
       "      <td>2.0</td>\n",
       "      <td>1.0</td>\n",
       "      <td>Completed</td>\n",
       "      <td>1.50</td>\n",
       "      <td>2.50</td>\n",
       "      <td>1.56</td>\n",
       "      <td>2.42</td>\n",
       "      <td>29.0</td>\n",
       "      <td>17.0</td>\n",
       "      <td>12.0</td>\n",
       "    </tr>\n",
       "    <tr>\n",
       "      <td>1</td>\n",
       "      <td>1</td>\n",
       "      <td>Antalya</td>\n",
       "      <td>Antalya Open</td>\n",
       "      <td>2021-01-07</td>\n",
       "      <td>ATP250</td>\n",
       "      <td>Indoor</td>\n",
       "      <td>Hard</td>\n",
       "      <td>1st Round</td>\n",
       "      <td>3</td>\n",
       "      <td>Celikbilek A.</td>\n",
       "      <td>Zuk K.</td>\n",
       "      <td>309.0</td>\n",
       "      <td>262.0</td>\n",
       "      <td>150.0</td>\n",
       "      <td>209.0</td>\n",
       "      <td>7.0</td>\n",
       "      <td>6.0</td>\n",
       "      <td>7.0</td>\n",
       "      <td>5.0</td>\n",
       "      <td>0.0</td>\n",
       "      <td>0.0</td>\n",
       "      <td>2.0</td>\n",
       "      <td>0.0</td>\n",
       "      <td>Completed</td>\n",
       "      <td>2.50</td>\n",
       "      <td>1.50</td>\n",
       "      <td>2.57</td>\n",
       "      <td>1.50</td>\n",
       "      <td>25.0</td>\n",
       "      <td>14.0</td>\n",
       "      <td>11.0</td>\n",
       "    </tr>\n",
       "    <tr>\n",
       "      <td>2</td>\n",
       "      <td>1</td>\n",
       "      <td>Antalya</td>\n",
       "      <td>Antalya Open</td>\n",
       "      <td>2021-01-07</td>\n",
       "      <td>ATP250</td>\n",
       "      <td>Indoor</td>\n",
       "      <td>Hard</td>\n",
       "      <td>1st Round</td>\n",
       "      <td>3</td>\n",
       "      <td>Ruusuvuori E.</td>\n",
       "      <td>Vesely J.</td>\n",
       "      <td>87.0</td>\n",
       "      <td>67.0</td>\n",
       "      <td>806.0</td>\n",
       "      <td>928.0</td>\n",
       "      <td>6.0</td>\n",
       "      <td>3.0</td>\n",
       "      <td>7.0</td>\n",
       "      <td>6.0</td>\n",
       "      <td>0.0</td>\n",
       "      <td>0.0</td>\n",
       "      <td>2.0</td>\n",
       "      <td>0.0</td>\n",
       "      <td>Completed</td>\n",
       "      <td>1.50</td>\n",
       "      <td>2.50</td>\n",
       "      <td>1.52</td>\n",
       "      <td>2.53</td>\n",
       "      <td>22.0</td>\n",
       "      <td>13.0</td>\n",
       "      <td>9.0</td>\n",
       "    </tr>\n",
       "    <tr>\n",
       "      <td>3</td>\n",
       "      <td>1</td>\n",
       "      <td>Antalya</td>\n",
       "      <td>Antalya Open</td>\n",
       "      <td>2021-01-07</td>\n",
       "      <td>ATP250</td>\n",
       "      <td>Indoor</td>\n",
       "      <td>Hard</td>\n",
       "      <td>1st Round</td>\n",
       "      <td>3</td>\n",
       "      <td>Bublik A.</td>\n",
       "      <td>Caruso S.</td>\n",
       "      <td>49.0</td>\n",
       "      <td>76.0</td>\n",
       "      <td>1090.0</td>\n",
       "      <td>858.0</td>\n",
       "      <td>6.0</td>\n",
       "      <td>3.0</td>\n",
       "      <td>6.0</td>\n",
       "      <td>3.0</td>\n",
       "      <td>0.0</td>\n",
       "      <td>0.0</td>\n",
       "      <td>2.0</td>\n",
       "      <td>0.0</td>\n",
       "      <td>Completed</td>\n",
       "      <td>1.61</td>\n",
       "      <td>2.20</td>\n",
       "      <td>1.72</td>\n",
       "      <td>2.11</td>\n",
       "      <td>18.0</td>\n",
       "      <td>12.0</td>\n",
       "      <td>6.0</td>\n",
       "    </tr>\n",
       "    <tr>\n",
       "      <td>4</td>\n",
       "      <td>1</td>\n",
       "      <td>Antalya</td>\n",
       "      <td>Antalya Open</td>\n",
       "      <td>2021-01-07</td>\n",
       "      <td>ATP250</td>\n",
       "      <td>Indoor</td>\n",
       "      <td>Hard</td>\n",
       "      <td>1st Round</td>\n",
       "      <td>3</td>\n",
       "      <td>Goffin D.</td>\n",
       "      <td>Herbert P.H.</td>\n",
       "      <td>16.0</td>\n",
       "      <td>83.0</td>\n",
       "      <td>2555.0</td>\n",
       "      <td>822.0</td>\n",
       "      <td>3.0</td>\n",
       "      <td>6.0</td>\n",
       "      <td>7.0</td>\n",
       "      <td>5.0</td>\n",
       "      <td>6.0</td>\n",
       "      <td>0.0</td>\n",
       "      <td>2.0</td>\n",
       "      <td>1.0</td>\n",
       "      <td>Completed</td>\n",
       "      <td>1.40</td>\n",
       "      <td>2.75</td>\n",
       "      <td>1.44</td>\n",
       "      <td>2.78</td>\n",
       "      <td>27.0</td>\n",
       "      <td>16.0</td>\n",
       "      <td>11.0</td>\n",
       "    </tr>\n",
       "  </tbody>\n",
       "</table>\n",
       "</div>"
      ],
      "text/plain": [
       "   atp location    tournament       date  series   court surface      round  \\\n",
       "0    1  Antalya  Antalya Open 2021-01-07  ATP250  Indoor    Hard  1st Round   \n",
       "1    1  Antalya  Antalya Open 2021-01-07  ATP250  Indoor    Hard  1st Round   \n",
       "2    1  Antalya  Antalya Open 2021-01-07  ATP250  Indoor    Hard  1st Round   \n",
       "3    1  Antalya  Antalya Open 2021-01-07  ATP250  Indoor    Hard  1st Round   \n",
       "4    1  Antalya  Antalya Open 2021-01-07  ATP250  Indoor    Hard  1st Round   \n",
       "\n",
       "   best_of           winner         loser  wrank  lrank    wpts   lpts   w1  \\\n",
       "0        3  Basilashvili N.  Arnaboldi A.   40.0  267.0  1395.0  206.0  4.0   \n",
       "1        3    Celikbilek A.        Zuk K.  309.0  262.0   150.0  209.0  7.0   \n",
       "2        3    Ruusuvuori E.     Vesely J.   87.0   67.0   806.0  928.0  6.0   \n",
       "3        3        Bublik A.     Caruso S.   49.0   76.0  1090.0  858.0  6.0   \n",
       "4        3        Goffin D.  Herbert P.H.   16.0   83.0  2555.0  822.0  3.0   \n",
       "\n",
       "    l1   w2   l2   w3   l3  wsets  lsets    comment  b365w  b365l  avgw  avgl  \\\n",
       "0  6.0  7.0  5.0  6.0  1.0    2.0    1.0  Completed   1.50   2.50  1.56  2.42   \n",
       "1  6.0  7.0  5.0  0.0  0.0    2.0    0.0  Completed   2.50   1.50  2.57  1.50   \n",
       "2  3.0  7.0  6.0  0.0  0.0    2.0    0.0  Completed   1.50   2.50  1.52  2.53   \n",
       "3  3.0  6.0  3.0  0.0  0.0    2.0    0.0  Completed   1.61   2.20  1.72  2.11   \n",
       "4  6.0  7.0  5.0  6.0  0.0    2.0    1.0  Completed   1.40   2.75  1.44  2.78   \n",
       "\n",
       "   total_games  sumw  suml  \n",
       "0         29.0  17.0  12.0  \n",
       "1         25.0  14.0  11.0  \n",
       "2         22.0  13.0   9.0  \n",
       "3         18.0  12.0   6.0  \n",
       "4         27.0  16.0  11.0  "
      ]
     },
     "execution_count": 381,
     "metadata": {},
     "output_type": "execute_result"
    }
   ],
   "source": [
    "atp_copy.head()"
   ]
  },
  {
   "cell_type": "code",
   "execution_count": 382,
   "metadata": {},
   "outputs": [],
   "source": [
    "winners = atp_copy[['winner', 'total_games']].rename(columns={'winner':'player'})\n",
    "losers = atp_copy[['loser', 'total_games']].rename(columns={'loser':'player'})"
   ]
  },
  {
   "cell_type": "code",
   "execution_count": 383,
   "metadata": {},
   "outputs": [
    {
     "data": {
      "text/html": [
       "<div>\n",
       "<style scoped>\n",
       "    .dataframe tbody tr th:only-of-type {\n",
       "        vertical-align: middle;\n",
       "    }\n",
       "\n",
       "    .dataframe tbody tr th {\n",
       "        vertical-align: top;\n",
       "    }\n",
       "\n",
       "    .dataframe thead th {\n",
       "        text-align: right;\n",
       "    }\n",
       "</style>\n",
       "<table border=\"1\" class=\"dataframe\">\n",
       "  <thead>\n",
       "    <tr style=\"text-align: right;\">\n",
       "      <th></th>\n",
       "      <th>player</th>\n",
       "      <th>total_games</th>\n",
       "    </tr>\n",
       "  </thead>\n",
       "  <tbody>\n",
       "    <tr>\n",
       "      <td>0</td>\n",
       "      <td>Basilashvili N.</td>\n",
       "      <td>29.0</td>\n",
       "    </tr>\n",
       "    <tr>\n",
       "      <td>1</td>\n",
       "      <td>Celikbilek A.</td>\n",
       "      <td>25.0</td>\n",
       "    </tr>\n",
       "    <tr>\n",
       "      <td>2</td>\n",
       "      <td>Ruusuvuori E.</td>\n",
       "      <td>22.0</td>\n",
       "    </tr>\n",
       "    <tr>\n",
       "      <td>3</td>\n",
       "      <td>Bublik A.</td>\n",
       "      <td>18.0</td>\n",
       "    </tr>\n",
       "    <tr>\n",
       "      <td>4</td>\n",
       "      <td>Goffin D.</td>\n",
       "      <td>27.0</td>\n",
       "    </tr>\n",
       "  </tbody>\n",
       "</table>\n",
       "</div>"
      ],
      "text/plain": [
       "            player  total_games\n",
       "0  Basilashvili N.         29.0\n",
       "1    Celikbilek A.         25.0\n",
       "2    Ruusuvuori E.         22.0\n",
       "3        Bublik A.         18.0\n",
       "4        Goffin D.         27.0"
      ]
     },
     "execution_count": 383,
     "metadata": {},
     "output_type": "execute_result"
    },
    {
     "data": {
      "text/plain": [
       "21945"
      ]
     },
     "execution_count": 383,
     "metadata": {},
     "output_type": "execute_result"
    },
    {
     "data": {
      "text/html": [
       "<div>\n",
       "<style scoped>\n",
       "    .dataframe tbody tr th:only-of-type {\n",
       "        vertical-align: middle;\n",
       "    }\n",
       "\n",
       "    .dataframe tbody tr th {\n",
       "        vertical-align: top;\n",
       "    }\n",
       "\n",
       "    .dataframe thead th {\n",
       "        text-align: right;\n",
       "    }\n",
       "</style>\n",
       "<table border=\"1\" class=\"dataframe\">\n",
       "  <thead>\n",
       "    <tr style=\"text-align: right;\">\n",
       "      <th></th>\n",
       "      <th>player</th>\n",
       "      <th>total_games</th>\n",
       "    </tr>\n",
       "  </thead>\n",
       "  <tbody>\n",
       "    <tr>\n",
       "      <td>0</td>\n",
       "      <td>Arnaboldi A.</td>\n",
       "      <td>29.0</td>\n",
       "    </tr>\n",
       "    <tr>\n",
       "      <td>1</td>\n",
       "      <td>Zuk K.</td>\n",
       "      <td>25.0</td>\n",
       "    </tr>\n",
       "    <tr>\n",
       "      <td>2</td>\n",
       "      <td>Vesely J.</td>\n",
       "      <td>22.0</td>\n",
       "    </tr>\n",
       "    <tr>\n",
       "      <td>3</td>\n",
       "      <td>Caruso S.</td>\n",
       "      <td>18.0</td>\n",
       "    </tr>\n",
       "    <tr>\n",
       "      <td>4</td>\n",
       "      <td>Herbert P.H.</td>\n",
       "      <td>27.0</td>\n",
       "    </tr>\n",
       "  </tbody>\n",
       "</table>\n",
       "</div>"
      ],
      "text/plain": [
       "         player  total_games\n",
       "0  Arnaboldi A.         29.0\n",
       "1        Zuk K.         25.0\n",
       "2     Vesely J.         22.0\n",
       "3     Caruso S.         18.0\n",
       "4  Herbert P.H.         27.0"
      ]
     },
     "execution_count": 383,
     "metadata": {},
     "output_type": "execute_result"
    },
    {
     "data": {
      "text/plain": [
       "21945"
      ]
     },
     "execution_count": 383,
     "metadata": {},
     "output_type": "execute_result"
    }
   ],
   "source": [
    "winners.head()\n",
    "len(winners)\n",
    "losers.head()\n",
    "len(losers)"
   ]
  },
  {
   "cell_type": "code",
   "execution_count": 384,
   "metadata": {},
   "outputs": [],
   "source": [
    "games_played=pd.concat((winners,losers),axis=0)"
   ]
  },
  {
   "cell_type": "code",
   "execution_count": 385,
   "metadata": {},
   "outputs": [
    {
     "data": {
      "text/plain": [
       "43890"
      ]
     },
     "execution_count": 385,
     "metadata": {},
     "output_type": "execute_result"
    }
   ],
   "source": [
    "len(games_played)"
   ]
  },
  {
   "cell_type": "code",
   "execution_count": 386,
   "metadata": {},
   "outputs": [],
   "source": [
    "games_played= games_played.groupby('player').agg({'total_games':'mean'})"
   ]
  },
  {
   "cell_type": "code",
   "execution_count": 387,
   "metadata": {},
   "outputs": [],
   "source": [
    "games_played.reset_index(inplace= True)"
   ]
  },
  {
   "cell_type": "code",
   "execution_count": 388,
   "metadata": {},
   "outputs": [],
   "source": [
    "games_played.rename(columns= {'player': 'loser', 'total_games': 'totg_avg'}, inplace= True)"
   ]
  },
  {
   "cell_type": "code",
   "execution_count": 389,
   "metadata": {},
   "outputs": [
    {
     "data": {
      "text/html": [
       "<div>\n",
       "<style scoped>\n",
       "    .dataframe tbody tr th:only-of-type {\n",
       "        vertical-align: middle;\n",
       "    }\n",
       "\n",
       "    .dataframe tbody tr th {\n",
       "        vertical-align: top;\n",
       "    }\n",
       "\n",
       "    .dataframe thead th {\n",
       "        text-align: right;\n",
       "    }\n",
       "</style>\n",
       "<table border=\"1\" class=\"dataframe\">\n",
       "  <thead>\n",
       "    <tr style=\"text-align: right;\">\n",
       "      <th></th>\n",
       "      <th>atp</th>\n",
       "      <th>location</th>\n",
       "      <th>tournament</th>\n",
       "      <th>date</th>\n",
       "      <th>series</th>\n",
       "      <th>court</th>\n",
       "      <th>surface</th>\n",
       "      <th>round</th>\n",
       "      <th>best_of</th>\n",
       "      <th>winner</th>\n",
       "      <th>loser</th>\n",
       "      <th>wrank</th>\n",
       "      <th>lrank</th>\n",
       "      <th>wpts</th>\n",
       "      <th>lpts</th>\n",
       "      <th>w1</th>\n",
       "      <th>l1</th>\n",
       "      <th>w2</th>\n",
       "      <th>l2</th>\n",
       "      <th>w3</th>\n",
       "      <th>l3</th>\n",
       "      <th>wsets</th>\n",
       "      <th>lsets</th>\n",
       "      <th>comment</th>\n",
       "      <th>b365w</th>\n",
       "      <th>b365l</th>\n",
       "      <th>avgw</th>\n",
       "      <th>avgl</th>\n",
       "      <th>total_games</th>\n",
       "      <th>sumw</th>\n",
       "      <th>suml</th>\n",
       "    </tr>\n",
       "  </thead>\n",
       "  <tbody>\n",
       "    <tr>\n",
       "      <td>0</td>\n",
       "      <td>1</td>\n",
       "      <td>Antalya</td>\n",
       "      <td>Antalya Open</td>\n",
       "      <td>2021-01-07</td>\n",
       "      <td>ATP250</td>\n",
       "      <td>Indoor</td>\n",
       "      <td>Hard</td>\n",
       "      <td>1st Round</td>\n",
       "      <td>3</td>\n",
       "      <td>Basilashvili N.</td>\n",
       "      <td>Arnaboldi A.</td>\n",
       "      <td>40.0</td>\n",
       "      <td>267.0</td>\n",
       "      <td>1395.0</td>\n",
       "      <td>206.0</td>\n",
       "      <td>4.0</td>\n",
       "      <td>6.0</td>\n",
       "      <td>7.0</td>\n",
       "      <td>5.0</td>\n",
       "      <td>6.0</td>\n",
       "      <td>1.0</td>\n",
       "      <td>2.0</td>\n",
       "      <td>1.0</td>\n",
       "      <td>Completed</td>\n",
       "      <td>1.5</td>\n",
       "      <td>2.5</td>\n",
       "      <td>1.56</td>\n",
       "      <td>2.42</td>\n",
       "      <td>29.0</td>\n",
       "      <td>17.0</td>\n",
       "      <td>12.0</td>\n",
       "    </tr>\n",
       "  </tbody>\n",
       "</table>\n",
       "</div>"
      ],
      "text/plain": [
       "   atp location    tournament       date  series   court surface      round  \\\n",
       "0    1  Antalya  Antalya Open 2021-01-07  ATP250  Indoor    Hard  1st Round   \n",
       "\n",
       "   best_of           winner         loser  wrank  lrank    wpts   lpts   w1  \\\n",
       "0        3  Basilashvili N.  Arnaboldi A.   40.0  267.0  1395.0  206.0  4.0   \n",
       "\n",
       "    l1   w2   l2   w3   l3  wsets  lsets    comment  b365w  b365l  avgw  avgl  \\\n",
       "0  6.0  7.0  5.0  6.0  1.0    2.0    1.0  Completed    1.5    2.5  1.56  2.42   \n",
       "\n",
       "   total_games  sumw  suml  \n",
       "0         29.0  17.0  12.0  "
      ]
     },
     "execution_count": 389,
     "metadata": {},
     "output_type": "execute_result"
    }
   ],
   "source": [
    "atp_copy.head(1)"
   ]
  },
  {
   "cell_type": "code",
   "execution_count": 390,
   "metadata": {},
   "outputs": [],
   "source": [
    "atp_copy= pd.merge(atp_copy, games_played, on= 'loser', how= 'left')"
   ]
  },
  {
   "cell_type": "code",
   "execution_count": 391,
   "metadata": {},
   "outputs": [
    {
     "data": {
      "text/html": [
       "<div>\n",
       "<style scoped>\n",
       "    .dataframe tbody tr th:only-of-type {\n",
       "        vertical-align: middle;\n",
       "    }\n",
       "\n",
       "    .dataframe tbody tr th {\n",
       "        vertical-align: top;\n",
       "    }\n",
       "\n",
       "    .dataframe thead th {\n",
       "        text-align: right;\n",
       "    }\n",
       "</style>\n",
       "<table border=\"1\" class=\"dataframe\">\n",
       "  <thead>\n",
       "    <tr style=\"text-align: right;\">\n",
       "      <th></th>\n",
       "      <th>atp</th>\n",
       "      <th>location</th>\n",
       "      <th>tournament</th>\n",
       "      <th>date</th>\n",
       "      <th>series</th>\n",
       "      <th>court</th>\n",
       "      <th>surface</th>\n",
       "      <th>round</th>\n",
       "      <th>best_of</th>\n",
       "      <th>winner</th>\n",
       "      <th>loser</th>\n",
       "      <th>wrank</th>\n",
       "      <th>lrank</th>\n",
       "      <th>wpts</th>\n",
       "      <th>lpts</th>\n",
       "      <th>w1</th>\n",
       "      <th>l1</th>\n",
       "      <th>w2</th>\n",
       "      <th>l2</th>\n",
       "      <th>w3</th>\n",
       "      <th>l3</th>\n",
       "      <th>wsets</th>\n",
       "      <th>lsets</th>\n",
       "      <th>comment</th>\n",
       "      <th>b365w</th>\n",
       "      <th>b365l</th>\n",
       "      <th>avgw</th>\n",
       "      <th>avgl</th>\n",
       "      <th>total_games</th>\n",
       "      <th>sumw</th>\n",
       "      <th>suml</th>\n",
       "      <th>totg_avg</th>\n",
       "    </tr>\n",
       "  </thead>\n",
       "  <tbody>\n",
       "    <tr>\n",
       "      <td>0</td>\n",
       "      <td>1</td>\n",
       "      <td>Antalya</td>\n",
       "      <td>Antalya Open</td>\n",
       "      <td>2021-01-07</td>\n",
       "      <td>ATP250</td>\n",
       "      <td>Indoor</td>\n",
       "      <td>Hard</td>\n",
       "      <td>1st Round</td>\n",
       "      <td>3</td>\n",
       "      <td>Basilashvili N.</td>\n",
       "      <td>Arnaboldi A.</td>\n",
       "      <td>40.0</td>\n",
       "      <td>267.0</td>\n",
       "      <td>1395.0</td>\n",
       "      <td>206.0</td>\n",
       "      <td>4.0</td>\n",
       "      <td>6.0</td>\n",
       "      <td>7.0</td>\n",
       "      <td>5.0</td>\n",
       "      <td>6.0</td>\n",
       "      <td>1.0</td>\n",
       "      <td>2.0</td>\n",
       "      <td>1.0</td>\n",
       "      <td>Completed</td>\n",
       "      <td>1.50</td>\n",
       "      <td>2.50</td>\n",
       "      <td>1.56</td>\n",
       "      <td>2.42</td>\n",
       "      <td>29.0</td>\n",
       "      <td>17.0</td>\n",
       "      <td>12.0</td>\n",
       "      <td>22.300000</td>\n",
       "    </tr>\n",
       "    <tr>\n",
       "      <td>1</td>\n",
       "      <td>1</td>\n",
       "      <td>Antalya</td>\n",
       "      <td>Antalya Open</td>\n",
       "      <td>2021-01-07</td>\n",
       "      <td>ATP250</td>\n",
       "      <td>Indoor</td>\n",
       "      <td>Hard</td>\n",
       "      <td>1st Round</td>\n",
       "      <td>3</td>\n",
       "      <td>Celikbilek A.</td>\n",
       "      <td>Zuk K.</td>\n",
       "      <td>309.0</td>\n",
       "      <td>262.0</td>\n",
       "      <td>150.0</td>\n",
       "      <td>209.0</td>\n",
       "      <td>7.0</td>\n",
       "      <td>6.0</td>\n",
       "      <td>7.0</td>\n",
       "      <td>5.0</td>\n",
       "      <td>0.0</td>\n",
       "      <td>0.0</td>\n",
       "      <td>2.0</td>\n",
       "      <td>0.0</td>\n",
       "      <td>Completed</td>\n",
       "      <td>2.50</td>\n",
       "      <td>1.50</td>\n",
       "      <td>2.57</td>\n",
       "      <td>1.50</td>\n",
       "      <td>25.0</td>\n",
       "      <td>14.0</td>\n",
       "      <td>11.0</td>\n",
       "      <td>25.000000</td>\n",
       "    </tr>\n",
       "    <tr>\n",
       "      <td>2</td>\n",
       "      <td>1</td>\n",
       "      <td>Antalya</td>\n",
       "      <td>Antalya Open</td>\n",
       "      <td>2021-01-07</td>\n",
       "      <td>ATP250</td>\n",
       "      <td>Indoor</td>\n",
       "      <td>Hard</td>\n",
       "      <td>1st Round</td>\n",
       "      <td>3</td>\n",
       "      <td>Ruusuvuori E.</td>\n",
       "      <td>Vesely J.</td>\n",
       "      <td>87.0</td>\n",
       "      <td>67.0</td>\n",
       "      <td>806.0</td>\n",
       "      <td>928.0</td>\n",
       "      <td>6.0</td>\n",
       "      <td>3.0</td>\n",
       "      <td>7.0</td>\n",
       "      <td>6.0</td>\n",
       "      <td>0.0</td>\n",
       "      <td>0.0</td>\n",
       "      <td>2.0</td>\n",
       "      <td>0.0</td>\n",
       "      <td>Completed</td>\n",
       "      <td>1.50</td>\n",
       "      <td>2.50</td>\n",
       "      <td>1.52</td>\n",
       "      <td>2.53</td>\n",
       "      <td>22.0</td>\n",
       "      <td>13.0</td>\n",
       "      <td>9.0</td>\n",
       "      <td>23.694301</td>\n",
       "    </tr>\n",
       "    <tr>\n",
       "      <td>3</td>\n",
       "      <td>1</td>\n",
       "      <td>Antalya</td>\n",
       "      <td>Antalya Open</td>\n",
       "      <td>2021-01-07</td>\n",
       "      <td>ATP250</td>\n",
       "      <td>Indoor</td>\n",
       "      <td>Hard</td>\n",
       "      <td>1st Round</td>\n",
       "      <td>3</td>\n",
       "      <td>Bublik A.</td>\n",
       "      <td>Caruso S.</td>\n",
       "      <td>49.0</td>\n",
       "      <td>76.0</td>\n",
       "      <td>1090.0</td>\n",
       "      <td>858.0</td>\n",
       "      <td>6.0</td>\n",
       "      <td>3.0</td>\n",
       "      <td>6.0</td>\n",
       "      <td>3.0</td>\n",
       "      <td>0.0</td>\n",
       "      <td>0.0</td>\n",
       "      <td>2.0</td>\n",
       "      <td>0.0</td>\n",
       "      <td>Completed</td>\n",
       "      <td>1.61</td>\n",
       "      <td>2.20</td>\n",
       "      <td>1.72</td>\n",
       "      <td>2.11</td>\n",
       "      <td>18.0</td>\n",
       "      <td>12.0</td>\n",
       "      <td>6.0</td>\n",
       "      <td>22.885714</td>\n",
       "    </tr>\n",
       "    <tr>\n",
       "      <td>4</td>\n",
       "      <td>1</td>\n",
       "      <td>Antalya</td>\n",
       "      <td>Antalya Open</td>\n",
       "      <td>2021-01-07</td>\n",
       "      <td>ATP250</td>\n",
       "      <td>Indoor</td>\n",
       "      <td>Hard</td>\n",
       "      <td>1st Round</td>\n",
       "      <td>3</td>\n",
       "      <td>Goffin D.</td>\n",
       "      <td>Herbert P.H.</td>\n",
       "      <td>16.0</td>\n",
       "      <td>83.0</td>\n",
       "      <td>2555.0</td>\n",
       "      <td>822.0</td>\n",
       "      <td>3.0</td>\n",
       "      <td>6.0</td>\n",
       "      <td>7.0</td>\n",
       "      <td>5.0</td>\n",
       "      <td>6.0</td>\n",
       "      <td>0.0</td>\n",
       "      <td>2.0</td>\n",
       "      <td>1.0</td>\n",
       "      <td>Completed</td>\n",
       "      <td>1.40</td>\n",
       "      <td>2.75</td>\n",
       "      <td>1.44</td>\n",
       "      <td>2.78</td>\n",
       "      <td>27.0</td>\n",
       "      <td>16.0</td>\n",
       "      <td>11.0</td>\n",
       "      <td>24.196203</td>\n",
       "    </tr>\n",
       "  </tbody>\n",
       "</table>\n",
       "</div>"
      ],
      "text/plain": [
       "   atp location    tournament       date  series   court surface      round  \\\n",
       "0    1  Antalya  Antalya Open 2021-01-07  ATP250  Indoor    Hard  1st Round   \n",
       "1    1  Antalya  Antalya Open 2021-01-07  ATP250  Indoor    Hard  1st Round   \n",
       "2    1  Antalya  Antalya Open 2021-01-07  ATP250  Indoor    Hard  1st Round   \n",
       "3    1  Antalya  Antalya Open 2021-01-07  ATP250  Indoor    Hard  1st Round   \n",
       "4    1  Antalya  Antalya Open 2021-01-07  ATP250  Indoor    Hard  1st Round   \n",
       "\n",
       "   best_of           winner         loser  wrank  lrank    wpts   lpts   w1  \\\n",
       "0        3  Basilashvili N.  Arnaboldi A.   40.0  267.0  1395.0  206.0  4.0   \n",
       "1        3    Celikbilek A.        Zuk K.  309.0  262.0   150.0  209.0  7.0   \n",
       "2        3    Ruusuvuori E.     Vesely J.   87.0   67.0   806.0  928.0  6.0   \n",
       "3        3        Bublik A.     Caruso S.   49.0   76.0  1090.0  858.0  6.0   \n",
       "4        3        Goffin D.  Herbert P.H.   16.0   83.0  2555.0  822.0  3.0   \n",
       "\n",
       "    l1   w2   l2   w3   l3  wsets  lsets    comment  b365w  b365l  avgw  avgl  \\\n",
       "0  6.0  7.0  5.0  6.0  1.0    2.0    1.0  Completed   1.50   2.50  1.56  2.42   \n",
       "1  6.0  7.0  5.0  0.0  0.0    2.0    0.0  Completed   2.50   1.50  2.57  1.50   \n",
       "2  3.0  7.0  6.0  0.0  0.0    2.0    0.0  Completed   1.50   2.50  1.52  2.53   \n",
       "3  3.0  6.0  3.0  0.0  0.0    2.0    0.0  Completed   1.61   2.20  1.72  2.11   \n",
       "4  6.0  7.0  5.0  6.0  0.0    2.0    1.0  Completed   1.40   2.75  1.44  2.78   \n",
       "\n",
       "   total_games  sumw  suml   totg_avg  \n",
       "0         29.0  17.0  12.0  22.300000  \n",
       "1         25.0  14.0  11.0  25.000000  \n",
       "2         22.0  13.0   9.0  23.694301  \n",
       "3         18.0  12.0   6.0  22.885714  \n",
       "4         27.0  16.0  11.0  24.196203  "
      ]
     },
     "execution_count": 391,
     "metadata": {},
     "output_type": "execute_result"
    }
   ],
   "source": [
    "atp_copy.head()"
   ]
  },
  {
   "cell_type": "code",
   "execution_count": 392,
   "metadata": {},
   "outputs": [],
   "source": [
    "atp_copy['totg_avg'] = round(atp_copy['totg_avg'], 2)"
   ]
  },
  {
   "cell_type": "code",
   "execution_count": 393,
   "metadata": {},
   "outputs": [],
   "source": [
    "atp_copy.to_csv('atp_cleaned.csv')"
   ]
  },
  {
   "cell_type": "code",
   "execution_count": 394,
   "metadata": {},
   "outputs": [],
   "source": [
    "# We will drop the particular columns for every set since we are only interested in total games in the match\n",
    "\n",
    "atp_copy.drop(columns= ['w1', 'w2', 'w3', 'l1', 'l2', 'l3'], inplace= True)"
   ]
  },
  {
   "cell_type": "code",
   "execution_count": 395,
   "metadata": {},
   "outputs": [],
   "source": [
    "# Dropping more unnecessary columns\n",
    "\n",
    "atp_copy.drop(columns= ['comment', 'best_of', ], inplace= True)"
   ]
  },
  {
   "cell_type": "code",
   "execution_count": 396,
   "metadata": {},
   "outputs": [],
   "source": [
    "# Keeping few important columns to run the ML model\n",
    "\n",
    "red_atp_0 = atp_copy[['series', 'court', 'surface', 'wrank', 'lrank', 'wpts', 'lpts', 'total_games', 'totg_avg']]"
   ]
  },
  {
   "cell_type": "code",
   "execution_count": 397,
   "metadata": {},
   "outputs": [],
   "source": [
    "red_atp_1 = atp_copy[['series', 'court', 'surface', 'wrank', 'lrank', 'wpts', 'lpts', 'total_games', 'totg_avg']]"
   ]
  },
  {
   "cell_type": "code",
   "execution_count": 398,
   "metadata": {},
   "outputs": [
    {
     "data": {
      "text/plain": [
       "series          0\n",
       "court           0\n",
       "surface         0\n",
       "wrank          12\n",
       "lrank          53\n",
       "wpts           10\n",
       "lpts           52\n",
       "total_games     2\n",
       "totg_avg        0\n",
       "dtype: int64"
      ]
     },
     "execution_count": 398,
     "metadata": {},
     "output_type": "execute_result"
    }
   ],
   "source": [
    "red_atp_0.isnull().sum()\n",
    "#red_atp_0['total_games'] = red_atp_0['total_games'].fillna(red_atp_0['total_games'].mean())"
   ]
  },
  {
   "cell_type": "code",
   "execution_count": 399,
   "metadata": {},
   "outputs": [
    {
     "data": {
      "text/plain": [
       "series          0\n",
       "court           0\n",
       "surface         0\n",
       "wrank          12\n",
       "lrank          53\n",
       "wpts           10\n",
       "lpts           52\n",
       "total_games     2\n",
       "totg_avg        0\n",
       "dtype: int64"
      ]
     },
     "execution_count": 399,
     "metadata": {},
     "output_type": "execute_result"
    }
   ],
   "source": [
    "red_atp_1.isnull().sum()"
   ]
  },
  {
   "cell_type": "code",
   "execution_count": 400,
   "metadata": {},
   "outputs": [],
   "source": [
    "red_atp_0['wrank'].fillna(0, inplace=True)\n",
    "red_atp_0['lrank'].fillna(0, inplace=True)\n",
    "red_atp_0['wpts'].fillna(0, inplace=True)\n",
    "red_atp_0['lpts'].fillna(0, inplace=True)\n",
    "\n",
    "red_atp_0['total_games'] = round(red_atp_0['total_games'].fillna(red_atp_0['total_games'].mean()),0)"
   ]
  },
  {
   "cell_type": "markdown",
   "metadata": {},
   "source": [
    "### GO BACK TO THIS POINT ! \n",
    "\n",
    "- __MUST__: Taking the absolute value of the difference btween ranks and do the same with w/l pts\n",
    "\n",
    "- we are missing few more things to do to improve our model in the future !!!!"
   ]
  },
  {
   "cell_type": "code",
   "execution_count": 401,
   "metadata": {},
   "outputs": [
    {
     "data": {
      "text/plain": [
       "23.268990658464343"
      ]
     },
     "execution_count": 401,
     "metadata": {},
     "output_type": "execute_result"
    },
    {
     "data": {
      "text/plain": [
       "21945"
      ]
     },
     "execution_count": 401,
     "metadata": {},
     "output_type": "execute_result"
    },
    {
     "data": {
      "text/plain": [
       "510638.0"
      ]
     },
     "execution_count": 401,
     "metadata": {},
     "output_type": "execute_result"
    }
   ],
   "source": [
    "red_atp_0['total_games'].mean()\n",
    "len(red_atp_0)\n",
    "red_atp_0['total_games'].sum()"
   ]
  },
  {
   "cell_type": "code",
   "execution_count": 402,
   "metadata": {},
   "outputs": [
    {
     "data": {
      "text/plain": [
       "19.0    1937\n",
       "20.0    1722\n",
       "22.0    1657\n",
       "17.0    1622\n",
       "18.0    1600\n",
       "23.0    1320\n",
       "21.0    1250\n",
       "16.0    1080\n",
       "26.0    1031\n",
       "31.0     826\n",
       "29.0     814\n",
       "25.0     800\n",
       "32.0     799\n",
       "30.0     779\n",
       "28.0     762\n",
       "15.0     687\n",
       "27.0     670\n",
       "33.0     501\n",
       "35.0     448\n",
       "34.0     384\n",
       "24.0     340\n",
       "36.0     282\n",
       "14.0     279\n",
       "13.0     112\n",
       "38.0     106\n",
       "39.0     100\n",
       "37.0      27\n",
       "12.0      10\n",
       "Name: total_games, dtype: int64"
      ]
     },
     "execution_count": 402,
     "metadata": {},
     "output_type": "execute_result"
    }
   ],
   "source": [
    "red_atp_0['total_games'].value_counts()"
   ]
  },
  {
   "cell_type": "code",
   "execution_count": 403,
   "metadata": {},
   "outputs": [
    {
     "data": {
      "text/html": [
       "<div>\n",
       "<style scoped>\n",
       "    .dataframe tbody tr th:only-of-type {\n",
       "        vertical-align: middle;\n",
       "    }\n",
       "\n",
       "    .dataframe tbody tr th {\n",
       "        vertical-align: top;\n",
       "    }\n",
       "\n",
       "    .dataframe thead th {\n",
       "        text-align: right;\n",
       "    }\n",
       "</style>\n",
       "<table border=\"1\" class=\"dataframe\">\n",
       "  <thead>\n",
       "    <tr style=\"text-align: right;\">\n",
       "      <th></th>\n",
       "      <th>series</th>\n",
       "      <th>court</th>\n",
       "      <th>surface</th>\n",
       "      <th>wrank</th>\n",
       "      <th>lrank</th>\n",
       "      <th>wpts</th>\n",
       "      <th>lpts</th>\n",
       "      <th>total_games</th>\n",
       "      <th>totg_avg</th>\n",
       "    </tr>\n",
       "  </thead>\n",
       "  <tbody>\n",
       "    <tr>\n",
       "      <td>0</td>\n",
       "      <td>ATP250</td>\n",
       "      <td>Indoor</td>\n",
       "      <td>Hard</td>\n",
       "      <td>40.0</td>\n",
       "      <td>267.0</td>\n",
       "      <td>1395.0</td>\n",
       "      <td>206.0</td>\n",
       "      <td>29.0</td>\n",
       "      <td>22.30</td>\n",
       "    </tr>\n",
       "    <tr>\n",
       "      <td>1</td>\n",
       "      <td>ATP250</td>\n",
       "      <td>Indoor</td>\n",
       "      <td>Hard</td>\n",
       "      <td>309.0</td>\n",
       "      <td>262.0</td>\n",
       "      <td>150.0</td>\n",
       "      <td>209.0</td>\n",
       "      <td>25.0</td>\n",
       "      <td>25.00</td>\n",
       "    </tr>\n",
       "    <tr>\n",
       "      <td>2</td>\n",
       "      <td>ATP250</td>\n",
       "      <td>Indoor</td>\n",
       "      <td>Hard</td>\n",
       "      <td>87.0</td>\n",
       "      <td>67.0</td>\n",
       "      <td>806.0</td>\n",
       "      <td>928.0</td>\n",
       "      <td>22.0</td>\n",
       "      <td>23.69</td>\n",
       "    </tr>\n",
       "    <tr>\n",
       "      <td>3</td>\n",
       "      <td>ATP250</td>\n",
       "      <td>Indoor</td>\n",
       "      <td>Hard</td>\n",
       "      <td>49.0</td>\n",
       "      <td>76.0</td>\n",
       "      <td>1090.0</td>\n",
       "      <td>858.0</td>\n",
       "      <td>18.0</td>\n",
       "      <td>22.89</td>\n",
       "    </tr>\n",
       "    <tr>\n",
       "      <td>4</td>\n",
       "      <td>ATP250</td>\n",
       "      <td>Indoor</td>\n",
       "      <td>Hard</td>\n",
       "      <td>16.0</td>\n",
       "      <td>83.0</td>\n",
       "      <td>2555.0</td>\n",
       "      <td>822.0</td>\n",
       "      <td>27.0</td>\n",
       "      <td>24.20</td>\n",
       "    </tr>\n",
       "  </tbody>\n",
       "</table>\n",
       "</div>"
      ],
      "text/plain": [
       "   series   court surface  wrank  lrank    wpts   lpts  total_games  totg_avg\n",
       "0  ATP250  Indoor    Hard   40.0  267.0  1395.0  206.0         29.0     22.30\n",
       "1  ATP250  Indoor    Hard  309.0  262.0   150.0  209.0         25.0     25.00\n",
       "2  ATP250  Indoor    Hard   87.0   67.0   806.0  928.0         22.0     23.69\n",
       "3  ATP250  Indoor    Hard   49.0   76.0  1090.0  858.0         18.0     22.89\n",
       "4  ATP250  Indoor    Hard   16.0   83.0  2555.0  822.0         27.0     24.20"
      ]
     },
     "execution_count": 403,
     "metadata": {},
     "output_type": "execute_result"
    },
    {
     "data": {
      "text/plain": [
       "0        29\n",
       "1        25\n",
       "2        22\n",
       "3        18\n",
       "4        27\n",
       "         ..\n",
       "21940    22\n",
       "21941    21\n",
       "21942    25\n",
       "21943    16\n",
       "21944    19\n",
       "Name: total_games, Length: 21945, dtype: int64"
      ]
     },
     "execution_count": 403,
     "metadata": {},
     "output_type": "execute_result"
    }
   ],
   "source": [
    "red_atp_0.head()\n",
    "red_atp_0['total_games'].astype(int)"
   ]
  },
  {
   "cell_type": "code",
   "execution_count": 404,
   "metadata": {},
   "outputs": [],
   "source": [
    "# Creating a function to filter display matches that went over/under 21.5 games\n",
    "\n",
    "def more_less(x):\n",
    "    if x > 21.5:\n",
    "        return 'Y'\n",
    "    else: \n",
    "        return 'N'\n",
    "    \n",
    "red_atp_0['more/less']= red_atp_0['total_games'].apply(more_less)"
   ]
  },
  {
   "cell_type": "code",
   "execution_count": 405,
   "metadata": {},
   "outputs": [
    {
     "data": {
      "text/html": [
       "<div>\n",
       "<style scoped>\n",
       "    .dataframe tbody tr th:only-of-type {\n",
       "        vertical-align: middle;\n",
       "    }\n",
       "\n",
       "    .dataframe tbody tr th {\n",
       "        vertical-align: top;\n",
       "    }\n",
       "\n",
       "    .dataframe thead th {\n",
       "        text-align: right;\n",
       "    }\n",
       "</style>\n",
       "<table border=\"1\" class=\"dataframe\">\n",
       "  <thead>\n",
       "    <tr style=\"text-align: right;\">\n",
       "      <th></th>\n",
       "      <th>series</th>\n",
       "      <th>court</th>\n",
       "      <th>surface</th>\n",
       "      <th>wrank</th>\n",
       "      <th>lrank</th>\n",
       "      <th>wpts</th>\n",
       "      <th>lpts</th>\n",
       "      <th>total_games</th>\n",
       "      <th>totg_avg</th>\n",
       "      <th>more/less</th>\n",
       "    </tr>\n",
       "  </thead>\n",
       "  <tbody>\n",
       "    <tr>\n",
       "      <td>0</td>\n",
       "      <td>ATP250</td>\n",
       "      <td>Indoor</td>\n",
       "      <td>Hard</td>\n",
       "      <td>40.0</td>\n",
       "      <td>267.0</td>\n",
       "      <td>1395.0</td>\n",
       "      <td>206.0</td>\n",
       "      <td>29.0</td>\n",
       "      <td>22.3</td>\n",
       "      <td>Y</td>\n",
       "    </tr>\n",
       "    <tr>\n",
       "      <td>1</td>\n",
       "      <td>ATP250</td>\n",
       "      <td>Indoor</td>\n",
       "      <td>Hard</td>\n",
       "      <td>309.0</td>\n",
       "      <td>262.0</td>\n",
       "      <td>150.0</td>\n",
       "      <td>209.0</td>\n",
       "      <td>25.0</td>\n",
       "      <td>25.0</td>\n",
       "      <td>Y</td>\n",
       "    </tr>\n",
       "  </tbody>\n",
       "</table>\n",
       "</div>"
      ],
      "text/plain": [
       "   series   court surface  wrank  lrank    wpts   lpts  total_games  totg_avg  \\\n",
       "0  ATP250  Indoor    Hard   40.0  267.0  1395.0  206.0         29.0      22.3   \n",
       "1  ATP250  Indoor    Hard  309.0  262.0   150.0  209.0         25.0      25.0   \n",
       "\n",
       "  more/less  \n",
       "0         Y  \n",
       "1         Y  "
      ]
     },
     "execution_count": 405,
     "metadata": {},
     "output_type": "execute_result"
    }
   ],
   "source": [
    "red_atp_0.head(2)"
   ]
  },
  {
   "cell_type": "code",
   "execution_count": 406,
   "metadata": {},
   "outputs": [],
   "source": [
    "# Taking into account that we have a target column (more/less) than 21.5 we can drop the total games column\n",
    "\n",
    "red_atp_0.drop(columns= 'total_games', inplace= True)"
   ]
  },
  {
   "cell_type": "code",
   "execution_count": 407,
   "metadata": {},
   "outputs": [
    {
     "data": {
      "text/plain": [
       "array(['ATP250', 'ATP500', 'Masters 1000', 'Grand Slam', 'Masters Cup'],\n",
       "      dtype=object)"
      ]
     },
     "execution_count": 407,
     "metadata": {},
     "output_type": "execute_result"
    },
    {
     "data": {
      "text/plain": [
       "array(['Indoor', 'Outdoor'], dtype=object)"
      ]
     },
     "execution_count": 407,
     "metadata": {},
     "output_type": "execute_result"
    },
    {
     "data": {
      "text/plain": [
       "array(['Hard', 'Clay', 'Grass'], dtype=object)"
      ]
     },
     "execution_count": 407,
     "metadata": {},
     "output_type": "execute_result"
    }
   ],
   "source": [
    "red_atp_0['series'].unique()\n",
    "red_atp_0[\"court\"].unique()\n",
    "red_atp_0[\"surface\"].unique()"
   ]
  },
  {
   "cell_type": "code",
   "execution_count": 408,
   "metadata": {},
   "outputs": [
    {
     "data": {
      "text/plain": [
       "True"
      ]
     },
     "execution_count": 408,
     "metadata": {},
     "output_type": "execute_result"
    }
   ],
   "source": [
    "red_atp_0['series'].dtype == 'object'"
   ]
  },
  {
   "cell_type": "code",
   "execution_count": 409,
   "metadata": {},
   "outputs": [
    {
     "data": {
      "text/html": [
       "<div>\n",
       "<style scoped>\n",
       "    .dataframe tbody tr th:only-of-type {\n",
       "        vertical-align: middle;\n",
       "    }\n",
       "\n",
       "    .dataframe tbody tr th {\n",
       "        vertical-align: top;\n",
       "    }\n",
       "\n",
       "    .dataframe thead th {\n",
       "        text-align: right;\n",
       "    }\n",
       "</style>\n",
       "<table border=\"1\" class=\"dataframe\">\n",
       "  <thead>\n",
       "    <tr style=\"text-align: right;\">\n",
       "      <th></th>\n",
       "      <th>series</th>\n",
       "      <th>court</th>\n",
       "      <th>surface</th>\n",
       "      <th>wrank</th>\n",
       "      <th>lrank</th>\n",
       "      <th>wpts</th>\n",
       "      <th>lpts</th>\n",
       "      <th>totg_avg</th>\n",
       "      <th>more/less</th>\n",
       "    </tr>\n",
       "  </thead>\n",
       "  <tbody>\n",
       "    <tr>\n",
       "      <td>0</td>\n",
       "      <td>ATP250</td>\n",
       "      <td>Indoor</td>\n",
       "      <td>Hard</td>\n",
       "      <td>40.0</td>\n",
       "      <td>267.0</td>\n",
       "      <td>1395.0</td>\n",
       "      <td>206.0</td>\n",
       "      <td>22.30</td>\n",
       "      <td>Y</td>\n",
       "    </tr>\n",
       "    <tr>\n",
       "      <td>1</td>\n",
       "      <td>ATP250</td>\n",
       "      <td>Indoor</td>\n",
       "      <td>Hard</td>\n",
       "      <td>309.0</td>\n",
       "      <td>262.0</td>\n",
       "      <td>150.0</td>\n",
       "      <td>209.0</td>\n",
       "      <td>25.00</td>\n",
       "      <td>Y</td>\n",
       "    </tr>\n",
       "    <tr>\n",
       "      <td>2</td>\n",
       "      <td>ATP250</td>\n",
       "      <td>Indoor</td>\n",
       "      <td>Hard</td>\n",
       "      <td>87.0</td>\n",
       "      <td>67.0</td>\n",
       "      <td>806.0</td>\n",
       "      <td>928.0</td>\n",
       "      <td>23.69</td>\n",
       "      <td>Y</td>\n",
       "    </tr>\n",
       "    <tr>\n",
       "      <td>3</td>\n",
       "      <td>ATP250</td>\n",
       "      <td>Indoor</td>\n",
       "      <td>Hard</td>\n",
       "      <td>49.0</td>\n",
       "      <td>76.0</td>\n",
       "      <td>1090.0</td>\n",
       "      <td>858.0</td>\n",
       "      <td>22.89</td>\n",
       "      <td>N</td>\n",
       "    </tr>\n",
       "    <tr>\n",
       "      <td>4</td>\n",
       "      <td>ATP250</td>\n",
       "      <td>Indoor</td>\n",
       "      <td>Hard</td>\n",
       "      <td>16.0</td>\n",
       "      <td>83.0</td>\n",
       "      <td>2555.0</td>\n",
       "      <td>822.0</td>\n",
       "      <td>24.20</td>\n",
       "      <td>Y</td>\n",
       "    </tr>\n",
       "  </tbody>\n",
       "</table>\n",
       "</div>"
      ],
      "text/plain": [
       "   series   court surface  wrank  lrank    wpts   lpts  totg_avg more/less\n",
       "0  ATP250  Indoor    Hard   40.0  267.0  1395.0  206.0     22.30         Y\n",
       "1  ATP250  Indoor    Hard  309.0  262.0   150.0  209.0     25.00         Y\n",
       "2  ATP250  Indoor    Hard   87.0   67.0   806.0  928.0     23.69         Y\n",
       "3  ATP250  Indoor    Hard   49.0   76.0  1090.0  858.0     22.89         N\n",
       "4  ATP250  Indoor    Hard   16.0   83.0  2555.0  822.0     24.20         Y"
      ]
     },
     "execution_count": 409,
     "metadata": {},
     "output_type": "execute_result"
    }
   ],
   "source": [
    "red_atp_0.head()"
   ]
  },
  {
   "cell_type": "code",
   "execution_count": 410,
   "metadata": {
    "scrolled": true
   },
   "outputs": [
    {
     "name": "stdout",
     "output_type": "stream",
     "text": [
      "AxesSubplot(0.125,0.125;0.775x0.755)\n"
     ]
    },
    {
     "data": {
      "image/png": "[encoded data removed]",
      "text/plain": [
       "<Figure size 432x288 with 1 Axes>"
      ]
     },
     "metadata": {
      "needs_background": "light"
     },
     "output_type": "display_data"
    },
    {
     "name": "stdout",
     "output_type": "stream",
     "text": [
      "AxesSubplot(0.125,0.125;0.775x0.755)\n"
     ]
    },
    {
     "data": {
      "image/png": "[encoded data removed]",
      "text/plain": [
       "<Figure size 432x288 with 1 Axes>"
      ]
     },
     "metadata": {
      "needs_background": "light"
     },
     "output_type": "display_data"
    },
    {
     "name": "stdout",
     "output_type": "stream",
     "text": [
      "AxesSubplot(0.125,0.125;0.775x0.755)\n"
     ]
    },
    {
     "data": {
      "image/png": "[encoded data removed]",
      "text/plain": [
       "<Figure size 432x288 with 1 Axes>"
      ]
     },
     "metadata": {
      "needs_background": "light"
     },
     "output_type": "display_data"
    },
    {
     "name": "stdout",
     "output_type": "stream",
     "text": [
      "AxesSubplot(0.125,0.125;0.775x0.755)\n"
     ]
    },
    {
     "data": {
      "image/png": "[encoded data removed]",
      "text/plain": [
       "<Figure size 432x288 with 1 Axes>"
      ]
     },
     "metadata": {
      "needs_background": "light"
     },
     "output_type": "display_data"
    }
   ],
   "source": [
    "# Plottin series and games vs counting to spot coincidences\n",
    "\n",
    "for x in red_atp_0.columns:\n",
    "    if red_atp_0[x].dtype == 'object':\n",
    "        plt.show()\n",
    "        print(sns.countplot(x= x, data= red_atp_0, hue= 'more/less'))"
   ]
  },
  {
   "cell_type": "code",
   "execution_count": 411,
   "metadata": {},
   "outputs": [
    {
     "name": "stdout",
     "output_type": "stream",
     "text": [
      "AxesSubplot(0.125,0.125;0.775x0.755)\n"
     ]
    },
    {
     "data": {
      "image/png": "[encoded data removed]",
      "text/plain": [
       "<Figure size 432x288 with 1 Axes>"
      ]
     },
     "metadata": {
      "needs_background": "light"
     },
     "output_type": "display_data"
    },
    {
     "name": "stdout",
     "output_type": "stream",
     "text": [
      "AxesSubplot(0.125,0.125;0.775x0.755)\n"
     ]
    },
    {
     "data": {
      "image/png": "[encoded data removed]",
      "text/plain": [
       "<Figure size 432x288 with 1 Axes>"
      ]
     },
     "metadata": {
      "needs_background": "light"
     },
     "output_type": "display_data"
    },
    {
     "name": "stdout",
     "output_type": "stream",
     "text": [
      "AxesSubplot(0.125,0.125;0.775x0.755)\n"
     ]
    },
    {
     "data": {
      "image/png": "[encoded data removed]",
      "text/plain": [
       "<Figure size 432x288 with 1 Axes>"
      ]
     },
     "metadata": {
      "needs_background": "light"
     },
     "output_type": "display_data"
    },
    {
     "name": "stdout",
     "output_type": "stream",
     "text": [
      "AxesSubplot(0.125,0.125;0.775x0.755)\n"
     ]
    },
    {
     "data": {
      "image/png": "[encoded data removed]",
      "text/plain": [
       "<Figure size 432x288 with 1 Axes>"
      ]
     },
     "metadata": {
      "needs_background": "light"
     },
     "output_type": "display_data"
    },
    {
     "name": "stdout",
     "output_type": "stream",
     "text": [
      "AxesSubplot(0.125,0.125;0.775x0.755)\n"
     ]
    },
    {
     "data": {
      "image/png": "[encoded data removed]",
      "text/plain": [
       "<Figure size 432x288 with 1 Axes>"
      ]
     },
     "metadata": {
      "needs_background": "light"
     },
     "output_type": "display_data"
    },
    {
     "name": "stdout",
     "output_type": "stream",
     "text": [
      "AxesSubplot(0.125,0.125;0.775x0.755)\n"
     ]
    },
    {
     "data": {
      "image/png": "[encoded data removed]",
      "text/plain": [
       "<Figure size 432x288 with 1 Axes>"
      ]
     },
     "metadata": {
      "needs_background": "light"
     },
     "output_type": "display_data"
    },
    {
     "name": "stdout",
     "output_type": "stream",
     "text": [
      "AxesSubplot(0.125,0.125;0.775x0.755)\n"
     ]
    },
    {
     "data": {
      "image/png": "[encoded data removed]",
      "text/plain": [
       "<Figure size 432x288 with 1 Axes>"
      ]
     },
     "metadata": {
      "needs_background": "light"
     },
     "output_type": "display_data"
    },
    {
     "name": "stdout",
     "output_type": "stream",
     "text": [
      "AxesSubplot(0.125,0.125;0.775x0.755)\n"
     ]
    },
    {
     "data": {
      "image/png": "[encoded data removed]",
      "text/plain": [
       "<Figure size 432x288 with 1 Axes>"
      ]
     },
     "metadata": {
      "needs_background": "light"
     },
     "output_type": "display_data"
    },
    {
     "name": "stdout",
     "output_type": "stream",
     "text": [
      "AxesSubplot(0.125,0.125;0.775x0.755)\n"
     ]
    },
    {
     "data": {
      "image/png": "[encoded data removed]",
      "text/plain": [
       "<Figure size 432x288 with 1 Axes>"
      ]
     },
     "metadata": {
      "needs_background": "light"
     },
     "output_type": "display_data"
    }
   ],
   "source": [
    "# Plottin nums variables only\n",
    "\n",
    "for x in red_atp_0.columns:\n",
    "    if red_atp_0[x].dtype == 'float64' or 'int64':\n",
    "        plt.show()\n",
    "        print(red_atp_0[x].hist());"
   ]
  },
  {
   "cell_type": "markdown",
   "metadata": {},
   "source": [
    "---"
   ]
  },
  {
   "cell_type": "markdown",
   "metadata": {},
   "source": [
    "### 1st ML try\n",
    "\n",
    "- Scaling numericals after split test (__standard scaler__)"
   ]
  },
  {
   "cell_type": "code",
   "execution_count": 412,
   "metadata": {},
   "outputs": [],
   "source": [
    "# Defining our features and target variables\n",
    "\n",
    "X = red_atp_0.drop(['more/less'], axis=1)\n",
    "y = red_atp_0['more/less']"
   ]
  },
  {
   "cell_type": "code",
   "execution_count": 413,
   "metadata": {},
   "outputs": [
    {
     "data": {
      "text/plain": [
       "0        Y\n",
       "1        Y\n",
       "2        Y\n",
       "3        N\n",
       "4        Y\n",
       "        ..\n",
       "21940    Y\n",
       "21941    N\n",
       "21942    Y\n",
       "21943    N\n",
       "21944    N\n",
       "Name: more/less, Length: 21945, dtype: object"
      ]
     },
     "execution_count": 413,
     "metadata": {},
     "output_type": "execute_result"
    }
   ],
   "source": [
    "y"
   ]
  },
  {
   "cell_type": "code",
   "execution_count": 414,
   "metadata": {},
   "outputs": [],
   "source": [
    "# Converting our target variable to numerical\n",
    "\n",
    "def more_less(x):\n",
    "    if x == 'N':\n",
    "        return 0\n",
    "    else: \n",
    "        return 1\n",
    "    \n",
    "y = red_atp_0['more/less'].apply(more_less)"
   ]
  },
  {
   "cell_type": "code",
   "execution_count": 415,
   "metadata": {},
   "outputs": [
    {
     "data": {
      "text/plain": [
       "dtype('int64')"
      ]
     },
     "execution_count": 415,
     "metadata": {},
     "output_type": "execute_result"
    }
   ],
   "source": [
    "y.dtype"
   ]
  },
  {
   "cell_type": "code",
   "execution_count": 416,
   "metadata": {},
   "outputs": [],
   "source": [
    "# Splitting the dataset\n",
    "\n",
    "X_train, X_test, y_train, y_test = train_test_split(X, y, test_size=0.3, random_state=100)"
   ]
  },
  {
   "cell_type": "code",
   "execution_count": 417,
   "metadata": {},
   "outputs": [
    {
     "data": {
      "text/html": [
       "<div>\n",
       "<style scoped>\n",
       "    .dataframe tbody tr th:only-of-type {\n",
       "        vertical-align: middle;\n",
       "    }\n",
       "\n",
       "    .dataframe tbody tr th {\n",
       "        vertical-align: top;\n",
       "    }\n",
       "\n",
       "    .dataframe thead th {\n",
       "        text-align: right;\n",
       "    }\n",
       "</style>\n",
       "<table border=\"1\" class=\"dataframe\">\n",
       "  <thead>\n",
       "    <tr style=\"text-align: right;\">\n",
       "      <th></th>\n",
       "      <th>series</th>\n",
       "      <th>court</th>\n",
       "      <th>surface</th>\n",
       "      <th>wrank</th>\n",
       "      <th>lrank</th>\n",
       "      <th>wpts</th>\n",
       "      <th>lpts</th>\n",
       "      <th>totg_avg</th>\n",
       "    </tr>\n",
       "  </thead>\n",
       "  <tbody>\n",
       "    <tr>\n",
       "      <td>16905</td>\n",
       "      <td>ATP250</td>\n",
       "      <td>Outdoor</td>\n",
       "      <td>Grass</td>\n",
       "      <td>53.0</td>\n",
       "      <td>196.0</td>\n",
       "      <td>880.0</td>\n",
       "      <td>246.0</td>\n",
       "      <td>24.67</td>\n",
       "    </tr>\n",
       "    <tr>\n",
       "      <td>6250</td>\n",
       "      <td>Masters 1000</td>\n",
       "      <td>Outdoor</td>\n",
       "      <td>Hard</td>\n",
       "      <td>4.0</td>\n",
       "      <td>27.0</td>\n",
       "      <td>5305.0</td>\n",
       "      <td>1445.0</td>\n",
       "      <td>23.31</td>\n",
       "    </tr>\n",
       "    <tr>\n",
       "      <td>9255</td>\n",
       "      <td>ATP500</td>\n",
       "      <td>Outdoor</td>\n",
       "      <td>Hard</td>\n",
       "      <td>4.0</td>\n",
       "      <td>92.0</td>\n",
       "      <td>5870.0</td>\n",
       "      <td>593.0</td>\n",
       "      <td>23.54</td>\n",
       "    </tr>\n",
       "    <tr>\n",
       "      <td>1871</td>\n",
       "      <td>ATP250</td>\n",
       "      <td>Outdoor</td>\n",
       "      <td>Clay</td>\n",
       "      <td>130.0</td>\n",
       "      <td>74.0</td>\n",
       "      <td>415.0</td>\n",
       "      <td>647.0</td>\n",
       "      <td>24.42</td>\n",
       "    </tr>\n",
       "    <tr>\n",
       "      <td>5746</td>\n",
       "      <td>ATP250</td>\n",
       "      <td>Outdoor</td>\n",
       "      <td>Grass</td>\n",
       "      <td>2.0</td>\n",
       "      <td>65.0</td>\n",
       "      <td>8390.0</td>\n",
       "      <td>736.0</td>\n",
       "      <td>23.48</td>\n",
       "    </tr>\n",
       "    <tr>\n",
       "      <td>...</td>\n",
       "      <td>...</td>\n",
       "      <td>...</td>\n",
       "      <td>...</td>\n",
       "      <td>...</td>\n",
       "      <td>...</td>\n",
       "      <td>...</td>\n",
       "      <td>...</td>\n",
       "      <td>...</td>\n",
       "    </tr>\n",
       "    <tr>\n",
       "      <td>16304</td>\n",
       "      <td>Masters 1000</td>\n",
       "      <td>Outdoor</td>\n",
       "      <td>Hard</td>\n",
       "      <td>161.0</td>\n",
       "      <td>57.0</td>\n",
       "      <td>317.0</td>\n",
       "      <td>855.0</td>\n",
       "      <td>23.44</td>\n",
       "    </tr>\n",
       "    <tr>\n",
       "      <td>79</td>\n",
       "      <td>ATP250</td>\n",
       "      <td>Outdoor</td>\n",
       "      <td>Hard</td>\n",
       "      <td>58.0</td>\n",
       "      <td>797.0</td>\n",
       "      <td>1055.0</td>\n",
       "      <td>22.0</td>\n",
       "      <td>20.50</td>\n",
       "    </tr>\n",
       "    <tr>\n",
       "      <td>12119</td>\n",
       "      <td>ATP500</td>\n",
       "      <td>Outdoor</td>\n",
       "      <td>Clay</td>\n",
       "      <td>93.0</td>\n",
       "      <td>49.0</td>\n",
       "      <td>556.0</td>\n",
       "      <td>835.0</td>\n",
       "      <td>22.94</td>\n",
       "    </tr>\n",
       "    <tr>\n",
       "      <td>14147</td>\n",
       "      <td>ATP500</td>\n",
       "      <td>Outdoor</td>\n",
       "      <td>Clay</td>\n",
       "      <td>91.0</td>\n",
       "      <td>95.0</td>\n",
       "      <td>623.0</td>\n",
       "      <td>594.0</td>\n",
       "      <td>23.14</td>\n",
       "    </tr>\n",
       "    <tr>\n",
       "      <td>5640</td>\n",
       "      <td>ATP250</td>\n",
       "      <td>Outdoor</td>\n",
       "      <td>Clay</td>\n",
       "      <td>36.0</td>\n",
       "      <td>147.0</td>\n",
       "      <td>1290.0</td>\n",
       "      <td>341.0</td>\n",
       "      <td>20.86</td>\n",
       "    </tr>\n",
       "  </tbody>\n",
       "</table>\n",
       "<p>15361 rows × 8 columns</p>\n",
       "</div>"
      ],
      "text/plain": [
       "             series    court surface  wrank  lrank    wpts    lpts  totg_avg\n",
       "16905        ATP250  Outdoor   Grass   53.0  196.0   880.0   246.0     24.67\n",
       "6250   Masters 1000  Outdoor    Hard    4.0   27.0  5305.0  1445.0     23.31\n",
       "9255         ATP500  Outdoor    Hard    4.0   92.0  5870.0   593.0     23.54\n",
       "1871         ATP250  Outdoor    Clay  130.0   74.0   415.0   647.0     24.42\n",
       "5746         ATP250  Outdoor   Grass    2.0   65.0  8390.0   736.0     23.48\n",
       "...             ...      ...     ...    ...    ...     ...     ...       ...\n",
       "16304  Masters 1000  Outdoor    Hard  161.0   57.0   317.0   855.0     23.44\n",
       "79           ATP250  Outdoor    Hard   58.0  797.0  1055.0    22.0     20.50\n",
       "12119        ATP500  Outdoor    Clay   93.0   49.0   556.0   835.0     22.94\n",
       "14147        ATP500  Outdoor    Clay   91.0   95.0   623.0   594.0     23.14\n",
       "5640         ATP250  Outdoor    Clay   36.0  147.0  1290.0   341.0     20.86\n",
       "\n",
       "[15361 rows x 8 columns]"
      ]
     },
     "execution_count": 417,
     "metadata": {},
     "output_type": "execute_result"
    }
   ],
   "source": [
    "X_train"
   ]
  },
  {
   "cell_type": "code",
   "execution_count": 418,
   "metadata": {},
   "outputs": [
    {
     "data": {
      "text/html": [
       "<div>\n",
       "<style scoped>\n",
       "    .dataframe tbody tr th:only-of-type {\n",
       "        vertical-align: middle;\n",
       "    }\n",
       "\n",
       "    .dataframe tbody tr th {\n",
       "        vertical-align: top;\n",
       "    }\n",
       "\n",
       "    .dataframe thead th {\n",
       "        text-align: right;\n",
       "    }\n",
       "</style>\n",
       "<table border=\"1\" class=\"dataframe\">\n",
       "  <thead>\n",
       "    <tr style=\"text-align: right;\">\n",
       "      <th></th>\n",
       "      <th>wrank</th>\n",
       "      <th>lrank</th>\n",
       "      <th>wpts</th>\n",
       "      <th>lpts</th>\n",
       "      <th>totg_avg</th>\n",
       "    </tr>\n",
       "  </thead>\n",
       "  <tbody>\n",
       "    <tr>\n",
       "      <td>16905</td>\n",
       "      <td>53.0</td>\n",
       "      <td>196.0</td>\n",
       "      <td>880.0</td>\n",
       "      <td>246.0</td>\n",
       "      <td>24.67</td>\n",
       "    </tr>\n",
       "    <tr>\n",
       "      <td>6250</td>\n",
       "      <td>4.0</td>\n",
       "      <td>27.0</td>\n",
       "      <td>5305.0</td>\n",
       "      <td>1445.0</td>\n",
       "      <td>23.31</td>\n",
       "    </tr>\n",
       "    <tr>\n",
       "      <td>9255</td>\n",
       "      <td>4.0</td>\n",
       "      <td>92.0</td>\n",
       "      <td>5870.0</td>\n",
       "      <td>593.0</td>\n",
       "      <td>23.54</td>\n",
       "    </tr>\n",
       "    <tr>\n",
       "      <td>1871</td>\n",
       "      <td>130.0</td>\n",
       "      <td>74.0</td>\n",
       "      <td>415.0</td>\n",
       "      <td>647.0</td>\n",
       "      <td>24.42</td>\n",
       "    </tr>\n",
       "    <tr>\n",
       "      <td>5746</td>\n",
       "      <td>2.0</td>\n",
       "      <td>65.0</td>\n",
       "      <td>8390.0</td>\n",
       "      <td>736.0</td>\n",
       "      <td>23.48</td>\n",
       "    </tr>\n",
       "  </tbody>\n",
       "</table>\n",
       "</div>"
      ],
      "text/plain": [
       "       wrank  lrank    wpts    lpts  totg_avg\n",
       "16905   53.0  196.0   880.0   246.0     24.67\n",
       "6250     4.0   27.0  5305.0  1445.0     23.31\n",
       "9255     4.0   92.0  5870.0   593.0     23.54\n",
       "1871   130.0   74.0   415.0   647.0     24.42\n",
       "5746     2.0   65.0  8390.0   736.0     23.48"
      ]
     },
     "execution_count": 418,
     "metadata": {},
     "output_type": "execute_result"
    }
   ],
   "source": [
    "# Selecting numericals\n",
    "\n",
    "numericals_train_0 = X_train.select_dtypes(np.number)\n",
    "numericals_test_0 = X_test.select_dtypes(np.number)\n",
    "numericals_train_0.head()"
   ]
  },
  {
   "cell_type": "code",
   "execution_count": 446,
   "metadata": {},
   "outputs": [
    {
     "data": {
      "text/plain": [
       "<Figure size 720x504 with 0 Axes>"
      ]
     },
     "execution_count": 446,
     "metadata": {},
     "output_type": "execute_result"
    },
    {
     "data": {
      "text/plain": [
       "<matplotlib.axes._subplots.AxesSubplot at 0x7fd4f5f66b50>"
      ]
     },
     "execution_count": 446,
     "metadata": {},
     "output_type": "execute_result"
    },
    {
     "data": {
      "image/png": "[encoded data removed]",
      "text/plain": [
       "<Figure size 720x504 with 2 Axes>"
      ]
     },
     "metadata": {
      "needs_background": "light"
     },
     "output_type": "display_data"
    }
   ],
   "source": [
    "plt.figure(figsize= (10,7))\n",
    "\n",
    "correlations_matrix = numericals_test_0.corr()\n",
    "sns.heatmap(correlations_matrix, annot=True)"
   ]
  },
  {
   "cell_type": "code",
   "execution_count": null,
   "metadata": {},
   "outputs": [],
   "source": []
  },
  {
   "cell_type": "code",
   "execution_count": 419,
   "metadata": {},
   "outputs": [
    {
     "data": {
      "text/html": [
       "<div>\n",
       "<style scoped>\n",
       "    .dataframe tbody tr th:only-of-type {\n",
       "        vertical-align: middle;\n",
       "    }\n",
       "\n",
       "    .dataframe tbody tr th {\n",
       "        vertical-align: top;\n",
       "    }\n",
       "\n",
       "    .dataframe thead th {\n",
       "        text-align: right;\n",
       "    }\n",
       "</style>\n",
       "<table border=\"1\" class=\"dataframe\">\n",
       "  <thead>\n",
       "    <tr style=\"text-align: right;\">\n",
       "      <th></th>\n",
       "      <th>series</th>\n",
       "      <th>court</th>\n",
       "      <th>surface</th>\n",
       "    </tr>\n",
       "  </thead>\n",
       "  <tbody>\n",
       "    <tr>\n",
       "      <td>16905</td>\n",
       "      <td>ATP250</td>\n",
       "      <td>Outdoor</td>\n",
       "      <td>Grass</td>\n",
       "    </tr>\n",
       "    <tr>\n",
       "      <td>6250</td>\n",
       "      <td>Masters 1000</td>\n",
       "      <td>Outdoor</td>\n",
       "      <td>Hard</td>\n",
       "    </tr>\n",
       "    <tr>\n",
       "      <td>9255</td>\n",
       "      <td>ATP500</td>\n",
       "      <td>Outdoor</td>\n",
       "      <td>Hard</td>\n",
       "    </tr>\n",
       "    <tr>\n",
       "      <td>1871</td>\n",
       "      <td>ATP250</td>\n",
       "      <td>Outdoor</td>\n",
       "      <td>Clay</td>\n",
       "    </tr>\n",
       "    <tr>\n",
       "      <td>5746</td>\n",
       "      <td>ATP250</td>\n",
       "      <td>Outdoor</td>\n",
       "      <td>Grass</td>\n",
       "    </tr>\n",
       "  </tbody>\n",
       "</table>\n",
       "</div>"
      ],
      "text/plain": [
       "             series    court surface\n",
       "16905        ATP250  Outdoor   Grass\n",
       "6250   Masters 1000  Outdoor    Hard\n",
       "9255         ATP500  Outdoor    Hard\n",
       "1871         ATP250  Outdoor    Clay\n",
       "5746         ATP250  Outdoor   Grass"
      ]
     },
     "execution_count": 419,
     "metadata": {},
     "output_type": "execute_result"
    }
   ],
   "source": [
    "# Selecting categoricals\n",
    "\n",
    "categoricals_train_0= X_train.select_dtypes(np.object)\n",
    "categoricals_test_0= X_test.select_dtypes(np.object)\n",
    "categoricals_train_0.head()"
   ]
  },
  {
   "cell_type": "code",
   "execution_count": 420,
   "metadata": {},
   "outputs": [],
   "source": [
    "# Since we dont want to give any particular weight on the the categoricals feature we used one hot encoder\n",
    "\n",
    "encoder_0 = OneHotEncoder(handle_unknown='error', drop='first').fit(categoricals_train_0)\n",
    "categoricals_train_encoded_0 = encoder_0.transform(categoricals_train_0).toarray()\n",
    "categoricals_test_encoded_0 = encoder_0.transform(categoricals_test_0).toarray()"
   ]
  },
  {
   "cell_type": "code",
   "execution_count": 421,
   "metadata": {},
   "outputs": [],
   "source": [
    "# Machine Learning works bettter with scaled numerical varaibles\n",
    "\n",
    "transformer_0 = StandardScaler().fit(numericals_train_0)\n",
    "numericals_train_standardized_0 = transformer_0.transform(numericals_train_0)\n",
    "numericals_test_standardized_0 = transformer_0.transform(numericals_test_0)"
   ]
  },
  {
   "cell_type": "code",
   "execution_count": 422,
   "metadata": {},
   "outputs": [],
   "source": [
    "# Concatenating arrays\n",
    "\n",
    "X_train_0 = np.concatenate((numericals_train_standardized_0,categoricals_train_encoded_0),axis=1)\n",
    "X_test_0 = np.concatenate((numericals_test_standardized_0,categoricals_test_encoded_0),axis=1)"
   ]
  },
  {
   "cell_type": "code",
   "execution_count": 423,
   "metadata": {},
   "outputs": [
    {
     "data": {
      "text/plain": [
       "KNeighborsRegressor(algorithm='auto', leaf_size=30, metric='minkowski',\n",
       "                    metric_params=None, n_jobs=None, n_neighbors=3, p=2,\n",
       "                    weights='uniform')"
      ]
     },
     "execution_count": 423,
     "metadata": {},
     "output_type": "execute_result"
    }
   ],
   "source": [
    "# Using KNN first to clasiffy our target variable\n",
    "\n",
    "KNN_0 = KNeighborsRegressor(n_neighbors=3)\n",
    "KNN_0.fit(X_train_0, y_train)"
   ]
  },
  {
   "cell_type": "code",
   "execution_count": 424,
   "metadata": {},
   "outputs": [
    {
     "data": {
      "text/plain": [
       "-0.23349789751045472"
      ]
     },
     "execution_count": 424,
     "metadata": {},
     "output_type": "execute_result"
    }
   ],
   "source": [
    "# This sucks and it makes sense\n",
    "\n",
    "score_knn_0 = KNN_0.score(X_test_0, y_test)\n",
    "score_knn_0"
   ]
  },
  {
   "cell_type": "code",
   "execution_count": 425,
   "metadata": {},
   "outputs": [],
   "source": [
    "# Lets try now LR\n",
    "\n",
    "classification = LogisticRegression(random_state=0, solver='lbfgs',\n",
    "                  multi_class='ovr').fit(X_train_0, y_train)"
   ]
  },
  {
   "cell_type": "code",
   "execution_count": 426,
   "metadata": {},
   "outputs": [
    {
     "data": {
      "text/plain": [
       "0.590370595382746"
      ]
     },
     "execution_count": 426,
     "metadata": {},
     "output_type": "execute_result"
    },
    {
     "data": {
      "text/plain": [
       "array([1, 0, 0, ..., 1, 1, 1])"
      ]
     },
     "execution_count": 426,
     "metadata": {},
     "output_type": "execute_result"
    }
   ],
   "source": [
    "# 59% which is not bad at all considering that we need more or less a 57% to breakeven when betting\n",
    "\n",
    "predictions = classification.predict(X_test_0)\n",
    "classification.score(X_test_0, y_test)\n",
    "predictions"
   ]
  },
  {
   "cell_type": "code",
   "execution_count": 427,
   "metadata": {},
   "outputs": [
    {
     "data": {
      "text/plain": [
       "0.537363304981774"
      ]
     },
     "execution_count": 427,
     "metadata": {},
     "output_type": "execute_result"
    }
   ],
   "source": [
    "y_test.mean()"
   ]
  },
  {
   "cell_type": "code",
   "execution_count": 428,
   "metadata": {},
   "outputs": [
    {
     "data": {
      "text/plain": [
       "array([[1368, 1678],\n",
       "       [1019, 2519]])"
      ]
     },
     "execution_count": 428,
     "metadata": {},
     "output_type": "execute_result"
    }
   ],
   "source": [
    "# confussion matrix\n",
    "\n",
    "from sklearn.metrics import confusion_matrix\n",
    "confusion_matrix(y_test, predictions)"
   ]
  },
  {
   "cell_type": "code",
   "execution_count": 430,
   "metadata": {},
   "outputs": [
    {
     "name": "stdout",
     "output_type": "stream",
     "text": [
      "precision:  0.6001906123421491\n",
      "recall:  0.7119841718485019\n",
      "f1:  0.6513251454427925\n"
     ]
    }
   ],
   "source": [
    "pred = classification.predict(X_test_0)\n",
    "\n",
    "print(\"precision: \",precision_score(y_test,pred))\n",
    "print(\"recall: \",recall_score(y_test,pred))\n",
    "print(\"f1: \",f1_score(y_test,pred))"
   ]
  },
  {
   "cell_type": "markdown",
   "metadata": {},
   "source": [
    "---"
   ]
  },
  {
   "cell_type": "markdown",
   "metadata": {},
   "source": [
    "### 2nd ML try\n",
    "\n",
    "- Let's try to improve our model with some playing a bit with the varibables we have"
   ]
  },
  {
   "cell_type": "code",
   "execution_count": 316,
   "metadata": {},
   "outputs": [
    {
     "data": {
      "text/html": [
       "<div>\n",
       "<style scoped>\n",
       "    .dataframe tbody tr th:only-of-type {\n",
       "        vertical-align: middle;\n",
       "    }\n",
       "\n",
       "    .dataframe tbody tr th {\n",
       "        vertical-align: top;\n",
       "    }\n",
       "\n",
       "    .dataframe thead th {\n",
       "        text-align: right;\n",
       "    }\n",
       "</style>\n",
       "<table border=\"1\" class=\"dataframe\">\n",
       "  <thead>\n",
       "    <tr style=\"text-align: right;\">\n",
       "      <th></th>\n",
       "      <th>series</th>\n",
       "      <th>court</th>\n",
       "      <th>surface</th>\n",
       "      <th>wrank</th>\n",
       "      <th>lrank</th>\n",
       "      <th>wpts</th>\n",
       "      <th>lpts</th>\n",
       "      <th>totg_avg</th>\n",
       "      <th>more/less</th>\n",
       "    </tr>\n",
       "  </thead>\n",
       "  <tbody>\n",
       "    <tr>\n",
       "      <td>0</td>\n",
       "      <td>ATP250</td>\n",
       "      <td>Indoor</td>\n",
       "      <td>Hard</td>\n",
       "      <td>40.0</td>\n",
       "      <td>267.0</td>\n",
       "      <td>1395.0</td>\n",
       "      <td>206.0</td>\n",
       "      <td>22.3</td>\n",
       "      <td>Y</td>\n",
       "    </tr>\n",
       "    <tr>\n",
       "      <td>1</td>\n",
       "      <td>ATP250</td>\n",
       "      <td>Indoor</td>\n",
       "      <td>Hard</td>\n",
       "      <td>309.0</td>\n",
       "      <td>262.0</td>\n",
       "      <td>150.0</td>\n",
       "      <td>209.0</td>\n",
       "      <td>25.0</td>\n",
       "      <td>Y</td>\n",
       "    </tr>\n",
       "  </tbody>\n",
       "</table>\n",
       "</div>"
      ],
      "text/plain": [
       "   series   court surface  wrank  lrank    wpts   lpts  totg_avg more/less\n",
       "0  ATP250  Indoor    Hard   40.0  267.0  1395.0  206.0      22.3         Y\n",
       "1  ATP250  Indoor    Hard  309.0  262.0   150.0  209.0      25.0         Y"
      ]
     },
     "execution_count": 316,
     "metadata": {},
     "output_type": "execute_result"
    }
   ],
   "source": [
    "# Copy of the org df\n",
    "\n",
    "red_atp_0.head(2)\n",
    "red_atp_1= red_atp_0.copy()"
   ]
  },
  {
   "cell_type": "code",
   "execution_count": 317,
   "metadata": {},
   "outputs": [],
   "source": [
    "# Trying to enrich our data extracting with some math\n",
    "\n",
    "red_atp_1['diff_rank']= abs(red_atp_1['wrank'] - red_atp_1['lrank'])\n",
    "red_atp_1['diff_point']= abs(red_atp_1['wpts'] - red_atp_1['lpts'])"
   ]
  },
  {
   "cell_type": "code",
   "execution_count": 318,
   "metadata": {},
   "outputs": [
    {
     "data": {
      "text/html": [
       "<div>\n",
       "<style scoped>\n",
       "    .dataframe tbody tr th:only-of-type {\n",
       "        vertical-align: middle;\n",
       "    }\n",
       "\n",
       "    .dataframe tbody tr th {\n",
       "        vertical-align: top;\n",
       "    }\n",
       "\n",
       "    .dataframe thead th {\n",
       "        text-align: right;\n",
       "    }\n",
       "</style>\n",
       "<table border=\"1\" class=\"dataframe\">\n",
       "  <thead>\n",
       "    <tr style=\"text-align: right;\">\n",
       "      <th></th>\n",
       "      <th>series</th>\n",
       "      <th>court</th>\n",
       "      <th>surface</th>\n",
       "      <th>wrank</th>\n",
       "      <th>lrank</th>\n",
       "      <th>wpts</th>\n",
       "      <th>lpts</th>\n",
       "      <th>totg_avg</th>\n",
       "      <th>more/less</th>\n",
       "      <th>diff_rank</th>\n",
       "      <th>diff_point</th>\n",
       "    </tr>\n",
       "  </thead>\n",
       "  <tbody>\n",
       "    <tr>\n",
       "      <td>0</td>\n",
       "      <td>ATP250</td>\n",
       "      <td>Indoor</td>\n",
       "      <td>Hard</td>\n",
       "      <td>40.0</td>\n",
       "      <td>267.0</td>\n",
       "      <td>1395.0</td>\n",
       "      <td>206.0</td>\n",
       "      <td>22.30</td>\n",
       "      <td>Y</td>\n",
       "      <td>227.0</td>\n",
       "      <td>1189.0</td>\n",
       "    </tr>\n",
       "    <tr>\n",
       "      <td>1</td>\n",
       "      <td>ATP250</td>\n",
       "      <td>Indoor</td>\n",
       "      <td>Hard</td>\n",
       "      <td>309.0</td>\n",
       "      <td>262.0</td>\n",
       "      <td>150.0</td>\n",
       "      <td>209.0</td>\n",
       "      <td>25.00</td>\n",
       "      <td>Y</td>\n",
       "      <td>47.0</td>\n",
       "      <td>59.0</td>\n",
       "    </tr>\n",
       "    <tr>\n",
       "      <td>2</td>\n",
       "      <td>ATP250</td>\n",
       "      <td>Indoor</td>\n",
       "      <td>Hard</td>\n",
       "      <td>87.0</td>\n",
       "      <td>67.0</td>\n",
       "      <td>806.0</td>\n",
       "      <td>928.0</td>\n",
       "      <td>23.69</td>\n",
       "      <td>Y</td>\n",
       "      <td>20.0</td>\n",
       "      <td>122.0</td>\n",
       "    </tr>\n",
       "    <tr>\n",
       "      <td>3</td>\n",
       "      <td>ATP250</td>\n",
       "      <td>Indoor</td>\n",
       "      <td>Hard</td>\n",
       "      <td>49.0</td>\n",
       "      <td>76.0</td>\n",
       "      <td>1090.0</td>\n",
       "      <td>858.0</td>\n",
       "      <td>22.89</td>\n",
       "      <td>N</td>\n",
       "      <td>27.0</td>\n",
       "      <td>232.0</td>\n",
       "    </tr>\n",
       "    <tr>\n",
       "      <td>4</td>\n",
       "      <td>ATP250</td>\n",
       "      <td>Indoor</td>\n",
       "      <td>Hard</td>\n",
       "      <td>16.0</td>\n",
       "      <td>83.0</td>\n",
       "      <td>2555.0</td>\n",
       "      <td>822.0</td>\n",
       "      <td>24.20</td>\n",
       "      <td>Y</td>\n",
       "      <td>67.0</td>\n",
       "      <td>1733.0</td>\n",
       "    </tr>\n",
       "  </tbody>\n",
       "</table>\n",
       "</div>"
      ],
      "text/plain": [
       "   series   court surface  wrank  lrank    wpts   lpts  totg_avg more/less  \\\n",
       "0  ATP250  Indoor    Hard   40.0  267.0  1395.0  206.0     22.30         Y   \n",
       "1  ATP250  Indoor    Hard  309.0  262.0   150.0  209.0     25.00         Y   \n",
       "2  ATP250  Indoor    Hard   87.0   67.0   806.0  928.0     23.69         Y   \n",
       "3  ATP250  Indoor    Hard   49.0   76.0  1090.0  858.0     22.89         N   \n",
       "4  ATP250  Indoor    Hard   16.0   83.0  2555.0  822.0     24.20         Y   \n",
       "\n",
       "   diff_rank  diff_point  \n",
       "0      227.0      1189.0  \n",
       "1       47.0        59.0  \n",
       "2       20.0       122.0  \n",
       "3       27.0       232.0  \n",
       "4       67.0      1733.0  "
      ]
     },
     "execution_count": 318,
     "metadata": {},
     "output_type": "execute_result"
    }
   ],
   "source": [
    "red_atp_1.head()"
   ]
  },
  {
   "cell_type": "code",
   "execution_count": 319,
   "metadata": {},
   "outputs": [],
   "source": [
    "# selecting the df we are gonna use to train the model\n",
    "\n",
    "red_atp_1= red_atp_1[['series', 'court', 'surface', 'diff_rank', 'diff_point', 'totg_avg', 'more/less']]"
   ]
  },
  {
   "cell_type": "code",
   "execution_count": 320,
   "metadata": {},
   "outputs": [
    {
     "data": {
      "text/html": [
       "<div>\n",
       "<style scoped>\n",
       "    .dataframe tbody tr th:only-of-type {\n",
       "        vertical-align: middle;\n",
       "    }\n",
       "\n",
       "    .dataframe tbody tr th {\n",
       "        vertical-align: top;\n",
       "    }\n",
       "\n",
       "    .dataframe thead th {\n",
       "        text-align: right;\n",
       "    }\n",
       "</style>\n",
       "<table border=\"1\" class=\"dataframe\">\n",
       "  <thead>\n",
       "    <tr style=\"text-align: right;\">\n",
       "      <th></th>\n",
       "      <th>series</th>\n",
       "      <th>court</th>\n",
       "      <th>surface</th>\n",
       "      <th>diff_rank</th>\n",
       "      <th>diff_point</th>\n",
       "      <th>totg_avg</th>\n",
       "      <th>more/less</th>\n",
       "    </tr>\n",
       "  </thead>\n",
       "  <tbody>\n",
       "    <tr>\n",
       "      <td>0</td>\n",
       "      <td>ATP250</td>\n",
       "      <td>Indoor</td>\n",
       "      <td>Hard</td>\n",
       "      <td>227.0</td>\n",
       "      <td>1189.0</td>\n",
       "      <td>22.3</td>\n",
       "      <td>Y</td>\n",
       "    </tr>\n",
       "    <tr>\n",
       "      <td>1</td>\n",
       "      <td>ATP250</td>\n",
       "      <td>Indoor</td>\n",
       "      <td>Hard</td>\n",
       "      <td>47.0</td>\n",
       "      <td>59.0</td>\n",
       "      <td>25.0</td>\n",
       "      <td>Y</td>\n",
       "    </tr>\n",
       "  </tbody>\n",
       "</table>\n",
       "</div>"
      ],
      "text/plain": [
       "   series   court surface  diff_rank  diff_point  totg_avg more/less\n",
       "0  ATP250  Indoor    Hard      227.0      1189.0      22.3         Y\n",
       "1  ATP250  Indoor    Hard       47.0        59.0      25.0         Y"
      ]
     },
     "execution_count": 320,
     "metadata": {},
     "output_type": "execute_result"
    }
   ],
   "source": [
    "red_atp_1.head(2)"
   ]
  },
  {
   "cell_type": "code",
   "execution_count": 321,
   "metadata": {},
   "outputs": [],
   "source": [
    "# Splitting features and target\n",
    "\n",
    "X_1 = red_atp_1.drop(['more/less'], axis=1)\n",
    "y_1 = red_atp_1['more/less']"
   ]
  },
  {
   "cell_type": "code",
   "execution_count": 322,
   "metadata": {},
   "outputs": [],
   "source": [
    "def more_less(x):\n",
    "    if x == 'N':\n",
    "        return 0\n",
    "    else: \n",
    "        return 1\n",
    "    \n",
    "y_1 = red_atp_0['more/less'].apply(more_less)"
   ]
  },
  {
   "cell_type": "code",
   "execution_count": 323,
   "metadata": {},
   "outputs": [],
   "source": [
    "X_train_1, X_test_1, y_train_1, y_test_1 = train_test_split(X_1, y_1, test_size=0.3, random_state=100)"
   ]
  },
  {
   "cell_type": "code",
   "execution_count": 91,
   "metadata": {},
   "outputs": [
    {
     "data": {
      "text/html": [
       "<div>\n",
       "<style scoped>\n",
       "    .dataframe tbody tr th:only-of-type {\n",
       "        vertical-align: middle;\n",
       "    }\n",
       "\n",
       "    .dataframe tbody tr th {\n",
       "        vertical-align: top;\n",
       "    }\n",
       "\n",
       "    .dataframe thead th {\n",
       "        text-align: right;\n",
       "    }\n",
       "</style>\n",
       "<table border=\"1\" class=\"dataframe\">\n",
       "  <thead>\n",
       "    <tr style=\"text-align: right;\">\n",
       "      <th></th>\n",
       "      <th>series</th>\n",
       "      <th>court</th>\n",
       "      <th>surface</th>\n",
       "      <th>diff_rank</th>\n",
       "      <th>diff_point</th>\n",
       "      <th>totg_avg</th>\n",
       "    </tr>\n",
       "  </thead>\n",
       "  <tbody>\n",
       "    <tr>\n",
       "      <td>16905</td>\n",
       "      <td>ATP250</td>\n",
       "      <td>Outdoor</td>\n",
       "      <td>Grass</td>\n",
       "      <td>143.0</td>\n",
       "      <td>634.0</td>\n",
       "      <td>24.67</td>\n",
       "    </tr>\n",
       "    <tr>\n",
       "      <td>6250</td>\n",
       "      <td>Masters 1000</td>\n",
       "      <td>Outdoor</td>\n",
       "      <td>Hard</td>\n",
       "      <td>23.0</td>\n",
       "      <td>3860.0</td>\n",
       "      <td>23.31</td>\n",
       "    </tr>\n",
       "    <tr>\n",
       "      <td>9255</td>\n",
       "      <td>ATP500</td>\n",
       "      <td>Outdoor</td>\n",
       "      <td>Hard</td>\n",
       "      <td>88.0</td>\n",
       "      <td>5277.0</td>\n",
       "      <td>23.54</td>\n",
       "    </tr>\n",
       "    <tr>\n",
       "      <td>1871</td>\n",
       "      <td>ATP250</td>\n",
       "      <td>Outdoor</td>\n",
       "      <td>Clay</td>\n",
       "      <td>56.0</td>\n",
       "      <td>232.0</td>\n",
       "      <td>24.42</td>\n",
       "    </tr>\n",
       "    <tr>\n",
       "      <td>5746</td>\n",
       "      <td>ATP250</td>\n",
       "      <td>Outdoor</td>\n",
       "      <td>Grass</td>\n",
       "      <td>63.0</td>\n",
       "      <td>7654.0</td>\n",
       "      <td>23.48</td>\n",
       "    </tr>\n",
       "    <tr>\n",
       "      <td>...</td>\n",
       "      <td>...</td>\n",
       "      <td>...</td>\n",
       "      <td>...</td>\n",
       "      <td>...</td>\n",
       "      <td>...</td>\n",
       "      <td>...</td>\n",
       "    </tr>\n",
       "    <tr>\n",
       "      <td>16304</td>\n",
       "      <td>Masters 1000</td>\n",
       "      <td>Outdoor</td>\n",
       "      <td>Hard</td>\n",
       "      <td>104.0</td>\n",
       "      <td>538.0</td>\n",
       "      <td>23.44</td>\n",
       "    </tr>\n",
       "    <tr>\n",
       "      <td>79</td>\n",
       "      <td>ATP250</td>\n",
       "      <td>Outdoor</td>\n",
       "      <td>Hard</td>\n",
       "      <td>739.0</td>\n",
       "      <td>1033.0</td>\n",
       "      <td>20.50</td>\n",
       "    </tr>\n",
       "    <tr>\n",
       "      <td>12119</td>\n",
       "      <td>ATP500</td>\n",
       "      <td>Outdoor</td>\n",
       "      <td>Clay</td>\n",
       "      <td>44.0</td>\n",
       "      <td>279.0</td>\n",
       "      <td>22.94</td>\n",
       "    </tr>\n",
       "    <tr>\n",
       "      <td>14147</td>\n",
       "      <td>ATP500</td>\n",
       "      <td>Outdoor</td>\n",
       "      <td>Clay</td>\n",
       "      <td>4.0</td>\n",
       "      <td>29.0</td>\n",
       "      <td>23.14</td>\n",
       "    </tr>\n",
       "    <tr>\n",
       "      <td>5640</td>\n",
       "      <td>ATP250</td>\n",
       "      <td>Outdoor</td>\n",
       "      <td>Clay</td>\n",
       "      <td>111.0</td>\n",
       "      <td>949.0</td>\n",
       "      <td>20.86</td>\n",
       "    </tr>\n",
       "  </tbody>\n",
       "</table>\n",
       "<p>15361 rows × 6 columns</p>\n",
       "</div>"
      ],
      "text/plain": [
       "             series    court surface  diff_rank  diff_point  totg_avg\n",
       "16905        ATP250  Outdoor   Grass      143.0       634.0     24.67\n",
       "6250   Masters 1000  Outdoor    Hard       23.0      3860.0     23.31\n",
       "9255         ATP500  Outdoor    Hard       88.0      5277.0     23.54\n",
       "1871         ATP250  Outdoor    Clay       56.0       232.0     24.42\n",
       "5746         ATP250  Outdoor   Grass       63.0      7654.0     23.48\n",
       "...             ...      ...     ...        ...         ...       ...\n",
       "16304  Masters 1000  Outdoor    Hard      104.0       538.0     23.44\n",
       "79           ATP250  Outdoor    Hard      739.0      1033.0     20.50\n",
       "12119        ATP500  Outdoor    Clay       44.0       279.0     22.94\n",
       "14147        ATP500  Outdoor    Clay        4.0        29.0     23.14\n",
       "5640         ATP250  Outdoor    Clay      111.0       949.0     20.86\n",
       "\n",
       "[15361 rows x 6 columns]"
      ]
     },
     "execution_count": 91,
     "metadata": {},
     "output_type": "execute_result"
    }
   ],
   "source": [
    "X_train_1"
   ]
  },
  {
   "cell_type": "code",
   "execution_count": 324,
   "metadata": {},
   "outputs": [
    {
     "data": {
      "text/html": [
       "<div>\n",
       "<style scoped>\n",
       "    .dataframe tbody tr th:only-of-type {\n",
       "        vertical-align: middle;\n",
       "    }\n",
       "\n",
       "    .dataframe tbody tr th {\n",
       "        vertical-align: top;\n",
       "    }\n",
       "\n",
       "    .dataframe thead th {\n",
       "        text-align: right;\n",
       "    }\n",
       "</style>\n",
       "<table border=\"1\" class=\"dataframe\">\n",
       "  <thead>\n",
       "    <tr style=\"text-align: right;\">\n",
       "      <th></th>\n",
       "      <th>diff_rank</th>\n",
       "      <th>diff_point</th>\n",
       "      <th>totg_avg</th>\n",
       "    </tr>\n",
       "  </thead>\n",
       "  <tbody>\n",
       "    <tr>\n",
       "      <td>16905</td>\n",
       "      <td>143.0</td>\n",
       "      <td>634.0</td>\n",
       "      <td>24.67</td>\n",
       "    </tr>\n",
       "    <tr>\n",
       "      <td>6250</td>\n",
       "      <td>23.0</td>\n",
       "      <td>3860.0</td>\n",
       "      <td>23.31</td>\n",
       "    </tr>\n",
       "    <tr>\n",
       "      <td>9255</td>\n",
       "      <td>88.0</td>\n",
       "      <td>5277.0</td>\n",
       "      <td>23.54</td>\n",
       "    </tr>\n",
       "    <tr>\n",
       "      <td>1871</td>\n",
       "      <td>56.0</td>\n",
       "      <td>232.0</td>\n",
       "      <td>24.42</td>\n",
       "    </tr>\n",
       "    <tr>\n",
       "      <td>5746</td>\n",
       "      <td>63.0</td>\n",
       "      <td>7654.0</td>\n",
       "      <td>23.48</td>\n",
       "    </tr>\n",
       "  </tbody>\n",
       "</table>\n",
       "</div>"
      ],
      "text/plain": [
       "       diff_rank  diff_point  totg_avg\n",
       "16905      143.0       634.0     24.67\n",
       "6250        23.0      3860.0     23.31\n",
       "9255        88.0      5277.0     23.54\n",
       "1871        56.0       232.0     24.42\n",
       "5746        63.0      7654.0     23.48"
      ]
     },
     "execution_count": 324,
     "metadata": {},
     "output_type": "execute_result"
    }
   ],
   "source": [
    "numericals_train_1 = X_train_1.select_dtypes(np.number)\n",
    "numericals_test_1 = X_test_1.select_dtypes(np.number)\n",
    "numericals_train_1.head()"
   ]
  },
  {
   "cell_type": "markdown",
   "metadata": {},
   "source": [
    "#### Here we can basically use the same variables that we already encoded !"
   ]
  },
  {
   "cell_type": "raw",
   "metadata": {},
   "source": [
    "encoder_0 = OneHotEncoder(handle_unknown='error', drop='first').fit(categoricals_train_0)\n",
    "categoricals_train_encoded_0 = encoder_0.transform(categoricals_train_0).toarray()\n",
    "categoricals_test_encoded_0 = encoder_0.transform(categoricals_test_0).toarray()"
   ]
  },
  {
   "cell_type": "code",
   "execution_count": 325,
   "metadata": {},
   "outputs": [],
   "source": [
    "transformer_1 = StandardScaler().fit(numericals_train_1)\n",
    "numericals_train_standardized_1 = transformer_1.transform(numericals_train_1)\n",
    "numericals_test_standardized_1 = transformer_1.transform(numericals_test_1)"
   ]
  },
  {
   "cell_type": "code",
   "execution_count": 326,
   "metadata": {},
   "outputs": [],
   "source": [
    "X_train_1 = np.concatenate((numericals_train_standardized_1,categoricals_train_encoded_0),axis=1)\n",
    "X_test_1 = np.concatenate((numericals_test_standardized_1,categoricals_test_encoded_0),axis=1)"
   ]
  },
  {
   "cell_type": "code",
   "execution_count": 327,
   "metadata": {},
   "outputs": [
    {
     "data": {
      "text/plain": [
       "KNeighborsRegressor(algorithm='auto', leaf_size=30, metric='minkowski',\n",
       "                    metric_params=None, n_jobs=None, n_neighbors=3, p=2,\n",
       "                    weights='uniform')"
      ]
     },
     "execution_count": 327,
     "metadata": {},
     "output_type": "execute_result"
    }
   ],
   "source": [
    "KNN_1 = KNeighborsRegressor(n_neighbors=3)\n",
    "KNN_1.fit(X_train_1, y_train_1)"
   ]
  },
  {
   "cell_type": "code",
   "execution_count": 328,
   "metadata": {},
   "outputs": [
    {
     "data": {
      "text/plain": [
       "-0.24361243092793664"
      ]
     },
     "execution_count": 328,
     "metadata": {},
     "output_type": "execute_result"
    }
   ],
   "source": [
    "score_knn_1 = KNN_1.score(X_test_1, y_test_1)\n",
    "score_knn_1"
   ]
  },
  {
   "cell_type": "code",
   "execution_count": 329,
   "metadata": {},
   "outputs": [],
   "source": [
    "classification = LogisticRegression(random_state=0, solver='lbfgs',\n",
    "                  multi_class='ovr').fit(X_train_1, y_train_1)"
   ]
  },
  {
   "cell_type": "code",
   "execution_count": 330,
   "metadata": {},
   "outputs": [
    {
     "data": {
      "text/plain": [
       "0.5785236938031592"
      ]
     },
     "execution_count": 330,
     "metadata": {},
     "output_type": "execute_result"
    },
    {
     "data": {
      "text/plain": [
       "array([1, 0, 1, ..., 1, 1, 0])"
      ]
     },
     "execution_count": 330,
     "metadata": {},
     "output_type": "execute_result"
    }
   ],
   "source": [
    "predictions = classification.predict(X_test_1)\n",
    "classification.score(X_test_1, y_test_1)\n",
    "predictions"
   ]
  },
  {
   "cell_type": "markdown",
   "metadata": {},
   "source": [
    "### This did not work as expected"
   ]
  },
  {
   "cell_type": "markdown",
   "metadata": {},
   "source": [
    "---"
   ]
  },
  {
   "cell_type": "markdown",
   "metadata": {},
   "source": [
    "### Let's go deeper and see if this works"
   ]
  },
  {
   "cell_type": "code",
   "execution_count": 342,
   "metadata": {},
   "outputs": [
    {
     "data": {
      "text/plain": [
       "0.4162338898076593"
      ]
     },
     "execution_count": 342,
     "metadata": {},
     "output_type": "execute_result"
    }
   ],
   "source": [
    "# Let's some more advanced models to see if we can improve our score\n",
    "# 1. MLPRegressor\n",
    "\n",
    "\n",
    "X_1, y_1 = make_regression(n_samples=200, random_state=1)\n",
    "X_train_2, X_test_2, y_train_2, y_test_2 = train_test_split(X, y,random_state=1)\n",
    "regr = MLPRegressor(random_state=1, max_iter=500).fit(X_train_2, y_train_2)\n",
    "predictions = regr.predict(X_test_2)\n",
    "r2_score(y_test_2, predictions)"
   ]
  },
  {
   "cell_type": "code",
   "execution_count": 333,
   "metadata": {},
   "outputs": [],
   "source": [
    "# 2. Random Forest\n",
    "\n",
    "RF = RandomForestRegressor()"
   ]
  },
  {
   "cell_type": "code",
   "execution_count": 334,
   "metadata": {},
   "outputs": [],
   "source": [
    "RF = RandomForestRegressor()"
   ]
  },
  {
   "cell_type": "code",
   "execution_count": 335,
   "metadata": {},
   "outputs": [
    {
     "data": {
      "text/plain": [
       "RandomForestRegressor(bootstrap=True, criterion='mse', max_depth=None,\n",
       "                      max_features='auto', max_leaf_nodes=None,\n",
       "                      min_impurity_decrease=0.0, min_impurity_split=None,\n",
       "                      min_samples_leaf=1, min_samples_split=2,\n",
       "                      min_weight_fraction_leaf=0.0, n_estimators=10,\n",
       "                      n_jobs=None, oob_score=False, random_state=None,\n",
       "                      verbose=0, warm_start=False)"
      ]
     },
     "execution_count": 335,
     "metadata": {},
     "output_type": "execute_result"
    }
   ],
   "source": [
    "RF.fit(X_train_2,y_train_2)"
   ]
  },
  {
   "cell_type": "code",
   "execution_count": 337,
   "metadata": {},
   "outputs": [
    {
     "data": {
      "text/plain": [
       "0.41566932792647526"
      ]
     },
     "execution_count": 337,
     "metadata": {},
     "output_type": "execute_result"
    }
   ],
   "source": [
    "RF.score(X_test_2,y_test_2)"
   ]
  },
  {
   "cell_type": "code",
   "execution_count": 338,
   "metadata": {},
   "outputs": [],
   "source": [
    "# 3. Gradient boost\n",
    "\n",
    "GB = GradientBoostingRegressor()"
   ]
  },
  {
   "cell_type": "code",
   "execution_count": 439,
   "metadata": {},
   "outputs": [
    {
     "data": {
      "text/plain": [
       "GradientBoostingRegressor(alpha=0.9, criterion='friedman_mse', init=None,\n",
       "                          learning_rate=0.1, loss='ls', max_depth=3,\n",
       "                          max_features=None, max_leaf_nodes=None,\n",
       "                          min_impurity_decrease=0.0, min_impurity_split=None,\n",
       "                          min_samples_leaf=1, min_samples_split=2,\n",
       "                          min_weight_fraction_leaf=0.0, n_estimators=100,\n",
       "                          n_iter_no_change=None, presort='auto',\n",
       "                          random_state=None, subsample=1.0, tol=0.0001,\n",
       "                          validation_fraction=0.1, verbose=0, warm_start=False)"
      ]
     },
     "execution_count": 439,
     "metadata": {},
     "output_type": "execute_result"
    }
   ],
   "source": [
    "GB.fit(X_train_2,y_train_2)"
   ]
  },
  {
   "cell_type": "markdown",
   "metadata": {},
   "source": [
    "### <font color= 'pink'> this is actually sweet ! </font>"
   ]
  },
  {
   "cell_type": "code",
   "execution_count": 440,
   "metadata": {},
   "outputs": [
    {
     "data": {
      "text/plain": [
       "0.66035700876197"
      ]
     },
     "execution_count": 440,
     "metadata": {},
     "output_type": "execute_result"
    }
   ],
   "source": [
    "GB.score(X_test_2,y_test_2)"
   ]
  }
 ],
 "metadata": {
  "kernelspec": {
   "display_name": "Python 3",
   "language": "python",
   "name": "python3"
  },
  "language_info": {
   "codemirror_mode": {
    "name": "ipython",
    "version": 3
   },
   "file_extension": ".py",
   "mimetype": "text/x-python",
   "name": "python",
   "nbconvert_exporter": "python",
   "pygments_lexer": "ipython3",
   "version": "3.7.4"
  }
 },
 "nbformat": 4,
 "nbformat_minor": 2
}
